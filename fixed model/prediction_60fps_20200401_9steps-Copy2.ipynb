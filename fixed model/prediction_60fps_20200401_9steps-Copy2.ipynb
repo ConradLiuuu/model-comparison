{
 "cells": [
  {
   "cell_type": "code",
   "execution_count": 323,
   "metadata": {},
   "outputs": [],
   "source": [
    "## import libraries\n",
    "import numpy as np\n",
    "import pandas as pd\n",
    "from keras.preprocessing import sequence\n",
    "from keras.models import Sequential\n",
    "from keras.layers import Dense, LSTM, Activation, TimeDistributed, RepeatVector, Bidirectional, CuDNNLSTM\n",
    "import matplotlib.pyplot as plt\n",
    "#import os\n",
    "import tensorflow as tf\n",
    "from keras.regularizers import l2"
   ]
  },
  {
   "cell_type": "code",
   "execution_count": 324,
   "metadata": {},
   "outputs": [],
   "source": [
    "# set GPU memory\n",
    "gpu_options = tf.GPUOptions(allow_growth=True)\n",
    "sess = tf.Session(config=tf.ConfigProto(gpu_options=gpu_options))"
   ]
  },
  {
   "cell_type": "code",
   "execution_count": 325,
   "metadata": {},
   "outputs": [],
   "source": [
    "n_step = 9"
   ]
  },
  {
   "cell_type": "code",
   "execution_count": 326,
   "metadata": {},
   "outputs": [],
   "source": [
    "def split(data, depth):\n",
    "    dataset = data\n",
    "    depth = depth\n",
    "    X = np.zeros([int(depth), n_step, 3])\n",
    "    Y = np.zeros([int(depth), n_step, 3])\n",
    "    c = 0\n",
    "    d = 0\n",
    "    \n",
    "    for i in range(int(depth)):\n",
    "        for j in range(n_step):\n",
    "            if d < dataset.shape[0]:\n",
    "                X[i,j,:] = dataset[d, c:c+3]\n",
    "                Y[i,j,:] = dataset[d, (c+3*n_step):(c+3*n_step+3)]\n",
    "                \n",
    "                if ((c+3*n_step+3) != (dataset.shape[1])):\n",
    "                    c +=3\n",
    "                else:\n",
    "                    c = 0\n",
    "                    d += 1\n",
    "        if (c-3) > 0:\n",
    "            c = (c - 3*n_step + 3)\n",
    "        else:\n",
    "            c = c\n",
    "            \n",
    "    return X, Y"
   ]
  },
  {
   "cell_type": "code",
   "execution_count": 327,
   "metadata": {},
   "outputs": [
    {
     "data": {
      "text/plain": [
       "(919, 120)"
      ]
     },
     "execution_count": 327,
     "metadata": {},
     "output_type": "execute_result"
    }
   ],
   "source": [
    "dataset = pd.read_csv('/home/lab606a/Documents/20200331/fixed/original data 60hz/right6.csv', header=None)\n",
    "dataset = dataset.fillna(0)\n",
    "dataset = np.array(dataset)\n",
    "dataset.shape"
   ]
  },
  {
   "cell_type": "code",
   "execution_count": 328,
   "metadata": {},
   "outputs": [
    {
     "data": {
      "text/plain": [
       "144"
      ]
     },
     "execution_count": 328,
     "metadata": {},
     "output_type": "execute_result"
    }
   ],
   "source": [
    "maxlen_train = dataset.shape[1]+(n_step-1)*3\n",
    "maxlen_train"
   ]
  },
  {
   "cell_type": "code",
   "execution_count": 329,
   "metadata": {},
   "outputs": [
    {
     "data": {
      "text/plain": [
       "(919, 144)"
      ]
     },
     "execution_count": 329,
     "metadata": {},
     "output_type": "execute_result"
    }
   ],
   "source": [
    "dataset = sequence.pad_sequences(dataset, maxlen=maxlen_train, padding='post', dtype='float32')\n",
    "dataset.shape"
   ]
  },
  {
   "cell_type": "code",
   "execution_count": 330,
   "metadata": {},
   "outputs": [],
   "source": [
    "depth_train = (int(dataset.shape[1]/3)+1-n_step-n_step)*dataset.shape[0] # (all_balls + 1 - input_balls - output_balls)*n_rows"
   ]
  },
  {
   "cell_type": "code",
   "execution_count": 331,
   "metadata": {},
   "outputs": [],
   "source": [
    "x_train, y_train = split(data=dataset, depth=depth_train)"
   ]
  },
  {
   "cell_type": "code",
   "execution_count": 332,
   "metadata": {},
   "outputs": [],
   "source": [
    "model = Sequential()\n",
    "model.add(CuDNNLSTM(128, input_shape=(x_train.shape[1], x_train.shape[2])))\n",
    "#model.add(LSTM(256, activation='linear', return_sequences=True))\n",
    "#model.add(LSTM(128, activation='linear', return_sequences=True))\n",
    "#model.add(LSTM(64, activation='linear', return_sequences=True))\n",
    "#model.add(CuDNNLSTM(64))\n",
    "model.add(RepeatVector(x_train.shape[1]))\n",
    "#model.add(LSTM(32, activation='linear', return_sequences=True))\n",
    "#model.add(CuDNNLSTM(64, return_sequences=True))\n",
    "#model.add(LSTM(128, activation='linear', return_sequences=True))\n",
    "#model.add(LSTM(64, activation='linear', return_sequences=True))\n",
    "model.add(CuDNNLSTM(128, return_sequences=True ))\n",
    "model.add(TimeDistributed(Dense(3)))\n",
    "\n",
    "model.compile(loss='mse', optimizer='adam', metrics=['accuracy'])"
   ]
  },
  {
   "cell_type": "code",
   "execution_count": 333,
   "metadata": {},
   "outputs": [],
   "source": [
    "#model.summary()"
   ]
  },
  {
   "cell_type": "code",
   "execution_count": 356,
   "metadata": {
    "scrolled": true
   },
   "outputs": [
    {
     "name": "stdout",
     "output_type": "stream",
     "text": [
      "Epoch 1/100\n",
      "28489/28489 [==============================] - 0s 6us/step - loss: 0.4994 - acc: 0.8364\n",
      "Epoch 2/100\n",
      "28489/28489 [==============================] - 0s 10us/step - loss: 0.4946 - acc: 0.8386\n",
      "Epoch 3/100\n",
      "28489/28489 [==============================] - 0s 10us/step - loss: 0.4946 - acc: 0.8371\n",
      "Epoch 4/100\n",
      "28489/28489 [==============================] - 0s 10us/step - loss: 0.4885 - acc: 0.8377\n",
      "Epoch 5/100\n",
      "28489/28489 [==============================] - 0s 10us/step - loss: 0.4923 - acc: 0.8381\n",
      "Epoch 6/100\n",
      "28489/28489 [==============================] - 0s 10us/step - loss: 0.4915 - acc: 0.8373\n",
      "Epoch 7/100\n",
      "28489/28489 [==============================] - 0s 7us/step - loss: 0.4962 - acc: 0.8360\n",
      "Epoch 8/100\n",
      "28489/28489 [==============================] - 0s 7us/step - loss: 0.4917 - acc: 0.8394\n",
      "Epoch 9/100\n",
      "28489/28489 [==============================] - 0s 6us/step - loss: 0.4872 - acc: 0.8336\n",
      "Epoch 10/100\n",
      "28489/28489 [==============================] - 0s 7us/step - loss: 0.4870 - acc: 0.8389\n",
      "Epoch 11/100\n",
      "28489/28489 [==============================] - 0s 8us/step - loss: 0.4855 - acc: 0.8356\n",
      "Epoch 12/100\n",
      "28489/28489 [==============================] - 0s 7us/step - loss: 0.5101 - acc: 0.8364\n",
      "Epoch 13/100\n",
      "28489/28489 [==============================] - 0s 7us/step - loss: 0.4960 - acc: 0.8353\n",
      "Epoch 14/100\n",
      "28489/28489 [==============================] - 0s 7us/step - loss: 0.4963 - acc: 0.8371\n",
      "Epoch 15/100\n",
      "28489/28489 [==============================] - 0s 7us/step - loss: 0.4978 - acc: 0.8339\n",
      "Epoch 16/100\n",
      "28489/28489 [==============================] - 0s 7us/step - loss: 0.4970 - acc: 0.8349\n",
      "Epoch 17/100\n",
      "28489/28489 [==============================] - 0s 7us/step - loss: 0.4946 - acc: 0.8351\n",
      "Epoch 18/100\n",
      "28489/28489 [==============================] - 0s 7us/step - loss: 0.5183 - acc: 0.8368\n",
      "Epoch 19/100\n",
      "28489/28489 [==============================] - 0s 7us/step - loss: 0.5373 - acc: 0.8361\n",
      "Epoch 20/100\n",
      "28489/28489 [==============================] - 0s 7us/step - loss: 0.5180 - acc: 0.8346\n",
      "Epoch 21/100\n",
      "28489/28489 [==============================] - 0s 7us/step - loss: 0.4889 - acc: 0.8379\n",
      "Epoch 22/100\n",
      "28489/28489 [==============================] - 0s 9us/step - loss: 0.4843 - acc: 0.8362\n",
      "Epoch 23/100\n",
      "28489/28489 [==============================] - 0s 8us/step - loss: 0.4812 - acc: 0.8387\n",
      "Epoch 24/100\n",
      "28489/28489 [==============================] - 0s 8us/step - loss: 0.4811 - acc: 0.8359\n",
      "Epoch 25/100\n",
      "28489/28489 [==============================] - 0s 8us/step - loss: 0.4908 - acc: 0.8373\n",
      "Epoch 26/100\n",
      "28489/28489 [==============================] - 0s 8us/step - loss: 0.4946 - acc: 0.8386\n",
      "Epoch 27/100\n",
      "28489/28489 [==============================] - 0s 8us/step - loss: 0.4867 - acc: 0.8395\n",
      "Epoch 28/100\n",
      "28489/28489 [==============================] - 0s 8us/step - loss: 0.4813 - acc: 0.8342\n",
      "Epoch 29/100\n",
      "28489/28489 [==============================] - 0s 8us/step - loss: 0.4882 - acc: 0.8373\n",
      "Epoch 30/100\n",
      "28489/28489 [==============================] - 0s 8us/step - loss: 0.4801 - acc: 0.8380\n",
      "Epoch 31/100\n",
      "28489/28489 [==============================] - 0s 8us/step - loss: 0.4862 - acc: 0.8384\n",
      "Epoch 32/100\n",
      "28489/28489 [==============================] - 0s 8us/step - loss: 0.5140 - acc: 0.8367\n",
      "Epoch 33/100\n",
      "28489/28489 [==============================] - 0s 8us/step - loss: 0.4835 - acc: 0.8350\n",
      "Epoch 34/100\n",
      "28489/28489 [==============================] - 0s 8us/step - loss: 0.4842 - acc: 0.8357\n",
      "Epoch 35/100\n",
      "28489/28489 [==============================] - 0s 6us/step - loss: 0.4972 - acc: 0.8394\n",
      "Epoch 36/100\n",
      "28489/28489 [==============================] - 0s 6us/step - loss: 0.5220 - acc: 0.8361\n",
      "Epoch 37/100\n",
      "28489/28489 [==============================] - 0s 9us/step - loss: 0.4879 - acc: 0.8354\n",
      "Epoch 38/100\n",
      "28489/28489 [==============================] - 0s 7us/step - loss: 0.4979 - acc: 0.8377\n",
      "Epoch 39/100\n",
      "28489/28489 [==============================] - 0s 7us/step - loss: 0.4917 - acc: 0.8361\n",
      "Epoch 40/100\n",
      "28489/28489 [==============================] - 0s 6us/step - loss: 0.5062 - acc: 0.8339\n",
      "Epoch 41/100\n",
      "28489/28489 [==============================] - 0s 8us/step - loss: 0.5422 - acc: 0.8346\n",
      "Epoch 42/100\n",
      "28489/28489 [==============================] - 0s 8us/step - loss: 0.4898 - acc: 0.8407\n",
      "Epoch 43/100\n",
      "28489/28489 [==============================] - 0s 8us/step - loss: 0.5029 - acc: 0.8341\n",
      "Epoch 44/100\n",
      "28489/28489 [==============================] - 0s 8us/step - loss: 0.5120 - acc: 0.8368\n",
      "Epoch 45/100\n",
      "28489/28489 [==============================] - 0s 8us/step - loss: 0.4992 - acc: 0.8386\n",
      "Epoch 46/100\n",
      "28489/28489 [==============================] - 0s 8us/step - loss: 0.4860 - acc: 0.8347\n",
      "Epoch 47/100\n",
      "28489/28489 [==============================] - 0s 8us/step - loss: 0.4864 - acc: 0.8386\n",
      "Epoch 48/100\n",
      "28489/28489 [==============================] - 0s 8us/step - loss: 0.5073 - acc: 0.8370\n",
      "Epoch 49/100\n",
      "28489/28489 [==============================] - 0s 6us/step - loss: 0.5074 - acc: 0.8363\n",
      "Epoch 50/100\n",
      "28489/28489 [==============================] - 0s 7us/step - loss: 0.4859 - acc: 0.8357\n",
      "Epoch 51/100\n",
      "28489/28489 [==============================] - 0s 7us/step - loss: 0.4990 - acc: 0.8365\n",
      "Epoch 52/100\n",
      "28489/28489 [==============================] - 0s 7us/step - loss: 0.4870 - acc: 0.8402\n",
      "Epoch 53/100\n",
      "28489/28489 [==============================] - 0s 7us/step - loss: 0.5051 - acc: 0.8364\n",
      "Epoch 54/100\n",
      "28489/28489 [==============================] - 0s 7us/step - loss: 0.4879 - acc: 0.8407\n",
      "Epoch 55/100\n",
      "28489/28489 [==============================] - 0s 7us/step - loss: 0.4920 - acc: 0.8347\n",
      "Epoch 56/100\n",
      "28489/28489 [==============================] - 0s 7us/step - loss: 0.4861 - acc: 0.8393\n",
      "Epoch 57/100\n",
      "28489/28489 [==============================] - 0s 7us/step - loss: 0.4930 - acc: 0.8388\n",
      "Epoch 58/100\n",
      "28489/28489 [==============================] - 0s 7us/step - loss: 0.4867 - acc: 0.8349\n",
      "Epoch 59/100\n",
      "28489/28489 [==============================] - 0s 7us/step - loss: 0.5081 - acc: 0.8354\n",
      "Epoch 60/100\n",
      "28489/28489 [==============================] - 0s 7us/step - loss: 0.4821 - acc: 0.8396\n",
      "Epoch 61/100\n",
      "28489/28489 [==============================] - 0s 7us/step - loss: 0.6147 - acc: 0.8376\n",
      "Epoch 62/100\n",
      "28489/28489 [==============================] - 0s 7us/step - loss: 10.5798 - acc: 0.8676\n",
      "Epoch 63/100\n",
      "28489/28489 [==============================] - 0s 7us/step - loss: 16.2847 - acc: 0.8761\n",
      "Epoch 64/100\n",
      "28489/28489 [==============================] - 0s 7us/step - loss: 10.9818 - acc: 0.8533\n",
      "Epoch 65/100\n",
      "28489/28489 [==============================] - 0s 7us/step - loss: 8.9106 - acc: 0.8561\n",
      "Epoch 66/100\n",
      "28489/28489 [==============================] - 0s 7us/step - loss: 7.3732 - acc: 0.8243\n",
      "Epoch 67/100\n",
      "28489/28489 [==============================] - 0s 7us/step - loss: 5.7711 - acc: 0.8324\n",
      "Epoch 68/100\n",
      "28489/28489 [==============================] - 0s 7us/step - loss: 4.5928 - acc: 0.8235\n",
      "Epoch 69/100\n",
      "28489/28489 [==============================] - 0s 7us/step - loss: 5.2369 - acc: 0.8354\n",
      "Epoch 70/100\n",
      "28489/28489 [==============================] - 0s 6us/step - loss: 3.4102 - acc: 0.8360\n",
      "Epoch 71/100\n",
      "28489/28489 [==============================] - 0s 6us/step - loss: 2.6542 - acc: 0.8058\n",
      "Epoch 72/100\n",
      "28489/28489 [==============================] - 0s 6us/step - loss: 4.8954 - acc: 0.8023\n",
      "Epoch 73/100\n",
      "28489/28489 [==============================] - 0s 6us/step - loss: 3.8757 - acc: 0.8079\n",
      "Epoch 74/100\n",
      "28489/28489 [==============================] - 0s 7us/step - loss: 2.2157 - acc: 0.8168\n",
      "Epoch 75/100\n",
      "28489/28489 [==============================] - 0s 7us/step - loss: 2.5269 - acc: 0.8107\n",
      "Epoch 76/100\n",
      "28489/28489 [==============================] - 0s 7us/step - loss: 11.2399 - acc: 0.8213\n",
      "Epoch 77/100\n",
      "28489/28489 [==============================] - 0s 7us/step - loss: 8.8234 - acc: 0.8920\n",
      "Epoch 78/100\n",
      "28489/28489 [==============================] - 0s 6us/step - loss: 5.5315 - acc: 0.8642\n",
      "Epoch 79/100\n",
      "28489/28489 [==============================] - 0s 7us/step - loss: 3.3081 - acc: 0.8420\n",
      "Epoch 80/100\n",
      "28489/28489 [==============================] - 0s 8us/step - loss: 2.3386 - acc: 0.8125\n",
      "Epoch 81/100\n",
      "28489/28489 [==============================] - 0s 7us/step - loss: 1.8287 - acc: 0.8236\n",
      "Epoch 82/100\n"
     ]
    },
    {
     "name": "stdout",
     "output_type": "stream",
     "text": [
      "28489/28489 [==============================] - 0s 6us/step - loss: 1.4020 - acc: 0.8323\n",
      "Epoch 83/100\n",
      "28489/28489 [==============================] - 0s 7us/step - loss: 0.9650 - acc: 0.8220\n",
      "Epoch 84/100\n",
      "28489/28489 [==============================] - 0s 7us/step - loss: 0.8123 - acc: 0.8294\n",
      "Epoch 85/100\n",
      "28489/28489 [==============================] - 0s 7us/step - loss: 1.0505 - acc: 0.8240\n",
      "Epoch 86/100\n",
      "28489/28489 [==============================] - 0s 9us/step - loss: 0.9143 - acc: 0.8262\n",
      "Epoch 87/100\n",
      "28489/28489 [==============================] - 0s 9us/step - loss: 0.7708 - acc: 0.8368\n",
      "Epoch 88/100\n",
      "28489/28489 [==============================] - 0s 9us/step - loss: 0.8321 - acc: 0.8220\n",
      "Epoch 89/100\n",
      "28489/28489 [==============================] - 0s 9us/step - loss: 2.6198 - acc: 0.8427\n",
      "Epoch 90/100\n",
      "28489/28489 [==============================] - 0s 9us/step - loss: 4.2779 - acc: 0.8492\n",
      "Epoch 91/100\n",
      "28489/28489 [==============================] - 0s 9us/step - loss: 2.9294 - acc: 0.8501\n",
      "Epoch 92/100\n",
      "28489/28489 [==============================] - 0s 9us/step - loss: 2.3855 - acc: 0.8487\n",
      "Epoch 93/100\n",
      "28489/28489 [==============================] - 0s 9us/step - loss: 1.1896 - acc: 0.8402\n",
      "Epoch 94/100\n",
      "28489/28489 [==============================] - 0s 9us/step - loss: 1.2543 - acc: 0.8372\n",
      "Epoch 95/100\n",
      "28489/28489 [==============================] - 0s 9us/step - loss: 1.0255 - acc: 0.8381\n",
      "Epoch 96/100\n",
      "28489/28489 [==============================] - 0s 9us/step - loss: 1.0620 - acc: 0.8379\n",
      "Epoch 97/100\n",
      "28489/28489 [==============================] - 0s 9us/step - loss: 1.0828 - acc: 0.8389\n",
      "Epoch 98/100\n",
      "28489/28489 [==============================] - 0s 9us/step - loss: 0.9931 - acc: 0.8245\n",
      "Epoch 99/100\n",
      "28489/28489 [==============================] - 0s 9us/step - loss: 0.8300 - acc: 0.8358\n",
      "Epoch 100/100\n",
      "28489/28489 [==============================] - 0s 9us/step - loss: 0.8028 - acc: 0.8224\n"
     ]
    }
   ],
   "source": [
    "history = model.fit(x_train, y_train, batch_size=2000, epochs=100, shuffle=True)"
   ]
  },
  {
   "cell_type": "code",
   "execution_count": 335,
   "metadata": {},
   "outputs": [
    {
     "data": {
      "image/png": "[encoded data removed]",
      "text/plain": [
       "<Figure size 432x288 with 1 Axes>"
      ]
     },
     "metadata": {
      "needs_background": "light"
     },
     "output_type": "display_data"
    }
   ],
   "source": [
    "# plot accuracy history\n",
    "# summarize history for accuracy \n",
    "plt.plot(history.history['acc'])\n",
    "#plt.plot(history.history['val_accuracy'])\n",
    "plt.title('model accuracy')\n",
    "plt.ylabel('accuracy')\n",
    "plt.xlabel('epoch')\n",
    "plt.legend(['train', 'test'], loc='upper left')\n",
    "#acc_png = './training history/' + file_name + '_accuracy.png'\n",
    "#plt.savefig(acc_png)\n",
    "plt.show()"
   ]
  },
  {
   "cell_type": "code",
   "execution_count": 336,
   "metadata": {},
   "outputs": [
    {
     "name": "stdout",
     "output_type": "stream",
     "text": [
      "[[ 71.85169983 292.38400269  41.28540039]\n",
      " [ 70.57920074 281.4960022   41.76449966]\n",
      " [ 69.6207962  268.5710144   42.14170074]\n",
      " [ 68.95770264 255.15299988  42.21780014]\n",
      " [ 68.08509827 243.55999756  41.86970139]\n",
      " [ 67.26319885 231.42500305  41.28480148]\n",
      " [ 66.68589783 220.98699951  40.08089828]\n",
      " [ 66.3757019  209.06399536  38.88159943]\n",
      " [ 66.08239746 197.70500183  37.75889969]]\n",
      "[[ 65.5687027  187.79499817  35.46580124]\n",
      " [ 65.51470184 176.63800049  33.8655014 ]\n",
      " [ 65.47389984 165.21499634  32.15859985]\n",
      " [ 65.40820312 155.1499939   29.57559967]\n",
      " [ 65.53690338 144.83999634  26.74040031]\n",
      " [ 65.84729767 134.35600281  23.87150002]\n",
      " [ 66.13880157 124.36000061  20.9843998 ]\n",
      " [ 66.58719635 114.24500275  17.72929955]\n",
      " [ 66.99629974 105.16999817  14.09879971]]\n"
     ]
    }
   ],
   "source": [
    "print(x_train[0,:,:])\n",
    "print(y_train[0,:,:])"
   ]
  },
  {
   "cell_type": "code",
   "execution_count": 337,
   "metadata": {},
   "outputs": [],
   "source": [
    "np.set_printoptions(suppress=True)"
   ]
  },
  {
   "cell_type": "code",
   "execution_count": 357,
   "metadata": {},
   "outputs": [
    {
     "name": "stdout",
     "output_type": "stream",
     "text": [
      "1/1 [==============================] - 0s 14ms/step\n",
      "[[[ 66.163574 186.55458   36.291092]\n",
      "  [ 65.893326 175.03714   33.96731 ]\n",
      "  [ 65.698586 164.10616   32.069923]\n",
      "  [ 65.66219  153.1769    30.190989]\n",
      "  [ 65.852806 142.56151   27.263258]\n",
      "  [ 66.12531  131.88641   24.60906 ]\n",
      "  [ 66.68848  121.26474   21.477142]\n",
      "  [ 66.944466 111.5303    18.171244]\n",
      "  [ 67.216415 101.367035  14.751237]]]\n"
     ]
    }
   ],
   "source": [
    "y_pred = model.predict(x_train[0,:,:].reshape(1,9,3), verbose=1)\n",
    "print(y_pred)"
   ]
  },
  {
   "cell_type": "code",
   "execution_count": 358,
   "metadata": {},
   "outputs": [
    {
     "data": {
      "text/plain": [
       "array([[[-0.59487152,  1.24041748, -0.82529068],\n",
       "        [-0.37862396,  1.6008606 , -0.10181046],\n",
       "        [-0.22468567,  1.10884094,  0.08867645],\n",
       "        [-0.25399017,  1.97309875, -0.61538887],\n",
       "        [-0.31590271,  2.27848816, -0.52285767],\n",
       "        [-0.27801514,  2.46958923, -0.73756027],\n",
       "        [-0.54967499,  3.09526062, -0.49274254],\n",
       "        [-0.35726929,  2.71470642, -0.44194412],\n",
       "        [-0.22011566,  3.80296326, -0.65243721]]])"
      ]
     },
     "execution_count": 358,
     "metadata": {},
     "output_type": "execute_result"
    }
   ],
   "source": [
    "#\n",
    "error = y_train[0,:,:].reshape(1,9,3)-y_pred\n",
    "error"
   ]
  },
  {
   "cell_type": "code",
   "execution_count": 319,
   "metadata": {},
   "outputs": [],
   "source": [
    "#model.save('./saved model/20200505/prediction_right6')"
   ]
  },
  {
   "cell_type": "code",
   "execution_count": null,
   "metadata": {},
   "outputs": [],
   "source": []
  }
 ],
 "metadata": {
  "kernelspec": {
   "display_name": "Python 3",
   "language": "python",
   "name": "python3"
  },
  "language_info": {
   "codemirror_mode": {
    "name": "ipython",
    "version": 3
   },
   "file_extension": ".py",
   "mimetype": "text/x-python",
   "name": "python",
   "nbconvert_exporter": "python",
   "pygments_lexer": "ipython3",
   "version": "3.6.9"
  }
 },
 "nbformat": 4,
 "nbformat_minor": 4
}
