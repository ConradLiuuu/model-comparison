{
 "cells": [
  {
   "cell_type": "code",
   "execution_count": 1,
   "metadata": {},
   "outputs": [
    {
     "name": "stderr",
     "output_type": "stream",
     "text": [
      "Using TensorFlow backend.\n",
      "/home/lab606a/.virtualenvs/keras/lib/python3.6/site-packages/tensorflow/python/framework/dtypes.py:523: FutureWarning: Passing (type, 1) or '1type' as a synonym of type is deprecated; in a future version of numpy, it will be understood as (type, (1,)) / '(1,)type'.\n",
      "  _np_qint8 = np.dtype([(\"qint8\", np.int8, 1)])\n",
      "/home/lab606a/.virtualenvs/keras/lib/python3.6/site-packages/tensorflow/python/framework/dtypes.py:524: FutureWarning: Passing (type, 1) or '1type' as a synonym of type is deprecated; in a future version of numpy, it will be understood as (type, (1,)) / '(1,)type'.\n",
      "  _np_quint8 = np.dtype([(\"quint8\", np.uint8, 1)])\n",
      "/home/lab606a/.virtualenvs/keras/lib/python3.6/site-packages/tensorflow/python/framework/dtypes.py:525: FutureWarning: Passing (type, 1) or '1type' as a synonym of type is deprecated; in a future version of numpy, it will be understood as (type, (1,)) / '(1,)type'.\n",
      "  _np_qint16 = np.dtype([(\"qint16\", np.int16, 1)])\n",
      "/home/lab606a/.virtualenvs/keras/lib/python3.6/site-packages/tensorflow/python/framework/dtypes.py:526: FutureWarning: Passing (type, 1) or '1type' as a synonym of type is deprecated; in a future version of numpy, it will be understood as (type, (1,)) / '(1,)type'.\n",
      "  _np_quint16 = np.dtype([(\"quint16\", np.uint16, 1)])\n",
      "/home/lab606a/.virtualenvs/keras/lib/python3.6/site-packages/tensorflow/python/framework/dtypes.py:527: FutureWarning: Passing (type, 1) or '1type' as a synonym of type is deprecated; in a future version of numpy, it will be understood as (type, (1,)) / '(1,)type'.\n",
      "  _np_qint32 = np.dtype([(\"qint32\", np.int32, 1)])\n",
      "/home/lab606a/.virtualenvs/keras/lib/python3.6/site-packages/tensorflow/python/framework/dtypes.py:532: FutureWarning: Passing (type, 1) or '1type' as a synonym of type is deprecated; in a future version of numpy, it will be understood as (type, (1,)) / '(1,)type'.\n",
      "  np_resource = np.dtype([(\"resource\", np.ubyte, 1)])\n"
     ]
    }
   ],
   "source": [
    "## import libraries\n",
    "import pandas as pd\n",
    "import numpy as np\n",
    "import matplotlib.pyplot as plt\n",
    "from keras.preprocessing import sequence\n",
    "from keras.utils import np_utils\n",
    "from keras.models import Sequential\n",
    "from keras.layers import Dense, CuDNNLSTM, Activation, Bidirectional\n",
    "import tensorflow as tf"
   ]
  },
  {
   "cell_type": "code",
   "execution_count": 2,
   "metadata": {},
   "outputs": [],
   "source": [
    "# set GPU memory\n",
    "gpu_options = tf.GPUOptions(allow_growth=True)\n",
    "sess = tf.Session(config=tf.ConfigProto(gpu_options=gpu_options))"
   ]
  },
  {
   "cell_type": "code",
   "execution_count": 3,
   "metadata": {},
   "outputs": [
    {
     "data": {
      "text/plain": [
       "(104000, 91)"
      ]
     },
     "execution_count": 3,
     "metadata": {},
     "output_type": "execute_result"
    }
   ],
   "source": [
    "datasetset = pd.read_csv(\"./datasets/30balls/5to30balls.csv\", header=None)\n",
    "datasetset = datasetset.fillna(0)\n",
    "datasetset = np.array(datasetset)\n",
    "datasetset.shape"
   ]
  },
  {
   "cell_type": "code",
   "execution_count": 4,
   "metadata": {},
   "outputs": [
    {
     "data": {
      "text/plain": [
       "(104000, 90)"
      ]
     },
     "execution_count": 4,
     "metadata": {},
     "output_type": "execute_result"
    }
   ],
   "source": [
    "x_train = datasetset[:,1:]\n",
    "x_train.shape"
   ]
  },
  {
   "cell_type": "code",
   "execution_count": 5,
   "metadata": {},
   "outputs": [],
   "source": [
    "row = int(x_train.shape[1]/3)\n",
    "col = 3"
   ]
  },
  {
   "cell_type": "code",
   "execution_count": 6,
   "metadata": {},
   "outputs": [
    {
     "data": {
      "text/plain": [
       "(104000, 30, 3)"
      ]
     },
     "execution_count": 6,
     "metadata": {},
     "output_type": "execute_result"
    }
   ],
   "source": [
    "x_train = x_train.reshape(x_train.shape[0], row, col)\n",
    "x_train = x_train.astype('float32')\n",
    "x_train.shape"
   ]
  },
  {
   "cell_type": "code",
   "execution_count": 7,
   "metadata": {},
   "outputs": [
    {
     "data": {
      "text/plain": [
       "(104000, 30, 3)"
      ]
     },
     "execution_count": 7,
     "metadata": {},
     "output_type": "execute_result"
    }
   ],
   "source": [
    "x_train = x_train.reshape(x_train.shape[0], row, col)\n",
    "x_train = x_train.astype('float32')\n",
    "x_train.shape"
   ]
  },
  {
   "cell_type": "code",
   "execution_count": 8,
   "metadata": {},
   "outputs": [
    {
     "data": {
      "text/plain": [
       "(104000,)"
      ]
     },
     "execution_count": 8,
     "metadata": {},
     "output_type": "execute_result"
    }
   ],
   "source": [
    "y_train = datasetset[:,0]\n",
    "y_train = y_train.astype('int')\n",
    "y_train.shape"
   ]
  },
  {
   "cell_type": "code",
   "execution_count": 9,
   "metadata": {},
   "outputs": [],
   "source": [
    "n_classes = 8"
   ]
  },
  {
   "cell_type": "code",
   "execution_count": 10,
   "metadata": {},
   "outputs": [
    {
     "data": {
      "text/plain": [
       "(104000, 8)"
      ]
     },
     "execution_count": 10,
     "metadata": {},
     "output_type": "execute_result"
    }
   ],
   "source": [
    "y_train = np_utils.to_categorical(y_train, n_classes)\n",
    "y_train.shape"
   ]
  },
  {
   "cell_type": "code",
   "execution_count": 11,
   "metadata": {},
   "outputs": [],
   "source": [
    "model = Sequential()\n",
    "model.add(CuDNNLSTM(units=256, input_shape=(row,col), return_sequences=True))\n",
    "#model.add(LSTM(units=256, activation='tanh', unroll=True, return_sequences=True))\n",
    "#model.add(LSTM(units=128, activation='tanh', unroll=True, return_sequences=True))\n",
    "#model.add(LSTM(units=64, activation='tanh', unroll=True, return_sequences=True, dropout=0.2))\n",
    "model.add(CuDNNLSTM(units=128, return_sequences=True))\n",
    "model.add(CuDNNLSTM(units=64, return_sequences=True))\n",
    "model.add(CuDNNLSTM(units=32, return_sequences=True))\n",
    "model.add(CuDNNLSTM(units=16, return_sequences=True))\n",
    "model.add(CuDNNLSTM(units=8))\n",
    "model.add(Dense(units=n_classes, activation='softmax'))"
   ]
  },
  {
   "cell_type": "code",
   "execution_count": 12,
   "metadata": {},
   "outputs": [
    {
     "name": "stdout",
     "output_type": "stream",
     "text": [
      "_________________________________________________________________\n",
      "Layer (type)                 Output Shape              Param #   \n",
      "=================================================================\n",
      "cu_dnnlstm_1 (CuDNNLSTM)     (None, 30, 256)           267264    \n",
      "_________________________________________________________________\n",
      "cu_dnnlstm_2 (CuDNNLSTM)     (None, 30, 128)           197632    \n",
      "_________________________________________________________________\n",
      "cu_dnnlstm_3 (CuDNNLSTM)     (None, 30, 64)            49664     \n",
      "_________________________________________________________________\n",
      "cu_dnnlstm_4 (CuDNNLSTM)     (None, 30, 32)            12544     \n",
      "_________________________________________________________________\n",
      "cu_dnnlstm_5 (CuDNNLSTM)     (None, 30, 16)            3200      \n",
      "_________________________________________________________________\n",
      "cu_dnnlstm_6 (CuDNNLSTM)     (None, 8)                 832       \n",
      "_________________________________________________________________\n",
      "dense_1 (Dense)              (None, 8)                 72        \n",
      "=================================================================\n",
      "Total params: 531,208\n",
      "Trainable params: 531,208\n",
      "Non-trainable params: 0\n",
      "_________________________________________________________________\n"
     ]
    }
   ],
   "source": [
    "model.summary()"
   ]
  },
  {
   "cell_type": "code",
   "execution_count": 13,
   "metadata": {},
   "outputs": [
    {
     "data": {
      "image/svg+xml": [
       "<svg height=\"556pt\" viewBox=\"0.00 0.00 191.00 556.00\" width=\"191pt\" xmlns=\"http://www.w3.org/2000/svg\" xmlns:xlink=\"http://www.w3.org/1999/xlink\">\n",
       "<g class=\"graph\" id=\"graph0\" transform=\"scale(1 1) rotate(0) translate(4 552)\">\n",
       "<title>G</title>\n",
       "<polygon fill=\"#ffffff\" points=\"-4,4 -4,-552 187,-552 187,4 -4,4\" stroke=\"transparent\"/>\n",
       "<!-- 140458254411144 -->\n",
       "<g class=\"node\" id=\"node1\">\n",
       "<title>140458254411144</title>\n",
       "<polygon fill=\"none\" points=\"0,-438.5 0,-474.5 183,-474.5 183,-438.5 0,-438.5\" stroke=\"#000000\"/>\n",
       "<text fill=\"#000000\" font-family=\"Times,serif\" font-size=\"14.00\" text-anchor=\"middle\" x=\"91.5\" y=\"-452.8\">cu_dnnlstm_1: CuDNNLSTM</text>\n",
       "</g>\n",
       "<!-- 140458254411256 -->\n",
       "<g class=\"node\" id=\"node2\">\n",
       "<title>140458254411256</title>\n",
       "<polygon fill=\"none\" points=\"0,-365.5 0,-401.5 183,-401.5 183,-365.5 0,-365.5\" stroke=\"#000000\"/>\n",
       "<text fill=\"#000000\" font-family=\"Times,serif\" font-size=\"14.00\" text-anchor=\"middle\" x=\"91.5\" y=\"-379.8\">cu_dnnlstm_2: CuDNNLSTM</text>\n",
       "</g>\n",
       "<!-- 140458254411144&#45;&gt;140458254411256 -->\n",
       "<g class=\"edge\" id=\"edge2\">\n",
       "<title>140458254411144-&gt;140458254411256</title>\n",
       "<path d=\"M91.5,-438.4551C91.5,-430.3828 91.5,-420.6764 91.5,-411.6817\" fill=\"none\" stroke=\"#000000\"/>\n",
       "<polygon fill=\"#000000\" points=\"95.0001,-411.5903 91.5,-401.5904 88.0001,-411.5904 95.0001,-411.5903\" stroke=\"#000000\"/>\n",
       "</g>\n",
       "<!-- 140458254412376 -->\n",
       "<g class=\"node\" id=\"node3\">\n",
       "<title>140458254412376</title>\n",
       "<polygon fill=\"none\" points=\"0,-292.5 0,-328.5 183,-328.5 183,-292.5 0,-292.5\" stroke=\"#000000\"/>\n",
       "<text fill=\"#000000\" font-family=\"Times,serif\" font-size=\"14.00\" text-anchor=\"middle\" x=\"91.5\" y=\"-306.8\">cu_dnnlstm_3: CuDNNLSTM</text>\n",
       "</g>\n",
       "<!-- 140458254411256&#45;&gt;140458254412376 -->\n",
       "<g class=\"edge\" id=\"edge3\">\n",
       "<title>140458254411256-&gt;140458254412376</title>\n",
       "<path d=\"M91.5,-365.4551C91.5,-357.3828 91.5,-347.6764 91.5,-338.6817\" fill=\"none\" stroke=\"#000000\"/>\n",
       "<polygon fill=\"#000000\" points=\"95.0001,-338.5903 91.5,-328.5904 88.0001,-338.5904 95.0001,-338.5903\" stroke=\"#000000\"/>\n",
       "</g>\n",
       "<!-- 140455838318208 -->\n",
       "<g class=\"node\" id=\"node4\">\n",
       "<title>140455838318208</title>\n",
       "<polygon fill=\"none\" points=\"0,-219.5 0,-255.5 183,-255.5 183,-219.5 0,-219.5\" stroke=\"#000000\"/>\n",
       "<text fill=\"#000000\" font-family=\"Times,serif\" font-size=\"14.00\" text-anchor=\"middle\" x=\"91.5\" y=\"-233.8\">cu_dnnlstm_4: CuDNNLSTM</text>\n",
       "</g>\n",
       "<!-- 140458254412376&#45;&gt;140455838318208 -->\n",
       "<g class=\"edge\" id=\"edge4\">\n",
       "<title>140458254412376-&gt;140455838318208</title>\n",
       "<path d=\"M91.5,-292.4551C91.5,-284.3828 91.5,-274.6764 91.5,-265.6817\" fill=\"none\" stroke=\"#000000\"/>\n",
       "<polygon fill=\"#000000\" points=\"95.0001,-265.5903 91.5,-255.5904 88.0001,-265.5904 95.0001,-265.5903\" stroke=\"#000000\"/>\n",
       "</g>\n",
       "<!-- 140458254412712 -->\n",
       "<g class=\"node\" id=\"node5\">\n",
       "<title>140458254412712</title>\n",
       "<polygon fill=\"none\" points=\"0,-146.5 0,-182.5 183,-182.5 183,-146.5 0,-146.5\" stroke=\"#000000\"/>\n",
       "<text fill=\"#000000\" font-family=\"Times,serif\" font-size=\"14.00\" text-anchor=\"middle\" x=\"91.5\" y=\"-160.8\">cu_dnnlstm_5: CuDNNLSTM</text>\n",
       "</g>\n",
       "<!-- 140455838318208&#45;&gt;140458254412712 -->\n",
       "<g class=\"edge\" id=\"edge5\">\n",
       "<title>140455838318208-&gt;140458254412712</title>\n",
       "<path d=\"M91.5,-219.4551C91.5,-211.3828 91.5,-201.6764 91.5,-192.6817\" fill=\"none\" stroke=\"#000000\"/>\n",
       "<polygon fill=\"#000000\" points=\"95.0001,-192.5903 91.5,-182.5904 88.0001,-192.5904 95.0001,-192.5903\" stroke=\"#000000\"/>\n",
       "</g>\n",
       "<!-- 140455836100872 -->\n",
       "<g class=\"node\" id=\"node6\">\n",
       "<title>140455836100872</title>\n",
       "<polygon fill=\"none\" points=\"0,-73.5 0,-109.5 183,-109.5 183,-73.5 0,-73.5\" stroke=\"#000000\"/>\n",
       "<text fill=\"#000000\" font-family=\"Times,serif\" font-size=\"14.00\" text-anchor=\"middle\" x=\"91.5\" y=\"-87.8\">cu_dnnlstm_6: CuDNNLSTM</text>\n",
       "</g>\n",
       "<!-- 140458254412712&#45;&gt;140455836100872 -->\n",
       "<g class=\"edge\" id=\"edge6\">\n",
       "<title>140458254412712-&gt;140455836100872</title>\n",
       "<path d=\"M91.5,-146.4551C91.5,-138.3828 91.5,-128.6764 91.5,-119.6817\" fill=\"none\" stroke=\"#000000\"/>\n",
       "<polygon fill=\"#000000\" points=\"95.0001,-119.5903 91.5,-109.5904 88.0001,-119.5904 95.0001,-119.5903\" stroke=\"#000000\"/>\n",
       "</g>\n",
       "<!-- 140455834668896 -->\n",
       "<g class=\"node\" id=\"node7\">\n",
       "<title>140455834668896</title>\n",
       "<polygon fill=\"none\" points=\"40.5,-.5 40.5,-36.5 142.5,-36.5 142.5,-.5 40.5,-.5\" stroke=\"#000000\"/>\n",
       "<text fill=\"#000000\" font-family=\"Times,serif\" font-size=\"14.00\" text-anchor=\"middle\" x=\"91.5\" y=\"-14.8\">dense_1: Dense</text>\n",
       "</g>\n",
       "<!-- 140455836100872&#45;&gt;140455834668896 -->\n",
       "<g class=\"edge\" id=\"edge7\">\n",
       "<title>140455836100872-&gt;140455834668896</title>\n",
       "<path d=\"M91.5,-73.4551C91.5,-65.3828 91.5,-55.6764 91.5,-46.6817\" fill=\"none\" stroke=\"#000000\"/>\n",
       "<polygon fill=\"#000000\" points=\"95.0001,-46.5903 91.5,-36.5904 88.0001,-46.5904 95.0001,-46.5903\" stroke=\"#000000\"/>\n",
       "</g>\n",
       "<!-- 140458254411984 -->\n",
       "<g class=\"node\" id=\"node8\">\n",
       "<title>140458254411984</title>\n",
       "<polygon fill=\"none\" points=\"32.5,-511.5 32.5,-547.5 150.5,-547.5 150.5,-511.5 32.5,-511.5\" stroke=\"#000000\"/>\n",
       "<text fill=\"#000000\" font-family=\"Times,serif\" font-size=\"14.00\" text-anchor=\"middle\" x=\"91.5\" y=\"-525.8\">140458254411984</text>\n",
       "</g>\n",
       "<!-- 140458254411984&#45;&gt;140458254411144 -->\n",
       "<g class=\"edge\" id=\"edge1\">\n",
       "<title>140458254411984-&gt;140458254411144</title>\n",
       "<path d=\"M91.5,-511.4551C91.5,-503.3828 91.5,-493.6764 91.5,-484.6817\" fill=\"none\" stroke=\"#000000\"/>\n",
       "<polygon fill=\"#000000\" points=\"95.0001,-484.5903 91.5,-474.5904 88.0001,-484.5904 95.0001,-484.5903\" stroke=\"#000000\"/>\n",
       "</g>\n",
       "</g>\n",
       "</svg>"
      ],
      "text/plain": [
       "<IPython.core.display.SVG object>"
      ]
     },
     "execution_count": 13,
     "metadata": {},
     "output_type": "execute_result"
    }
   ],
   "source": [
    "from IPython.display import SVG\n",
    "from keras.utils.vis_utils import model_to_dot\n",
    "SVG(model_to_dot(model).create(prog='dot', format='svg'))"
   ]
  },
  {
   "cell_type": "code",
   "execution_count": 64,
   "metadata": {},
   "outputs": [],
   "source": [
    "# compile model\n",
    "model.compile(loss='categorical_crossentropy', optimizer='adam', metrics=['accuracy'])"
   ]
  },
  {
   "cell_type": "code",
   "execution_count": 70,
   "metadata": {
    "scrolled": true
   },
   "outputs": [
    {
     "name": "stdout",
     "output_type": "stream",
     "text": [
      "Epoch 1/100\n",
      "104000/104000 [==============================] - 3s 26us/step - loss: 0.0033 - acc: 0.9990\n",
      "Epoch 2/100\n",
      "104000/104000 [==============================] - 3s 26us/step - loss: 0.0027 - acc: 0.9993\n",
      "Epoch 3/100\n",
      "104000/104000 [==============================] - 3s 26us/step - loss: 0.0032 - acc: 0.9991\n",
      "Epoch 4/100\n",
      "104000/104000 [==============================] - 3s 26us/step - loss: 0.0026 - acc: 0.9992\n",
      "Epoch 5/100\n",
      "104000/104000 [==============================] - 3s 26us/step - loss: 0.0027 - acc: 0.9992\n",
      "Epoch 6/100\n",
      "104000/104000 [==============================] - 3s 26us/step - loss: 0.0031 - acc: 0.9991\n",
      "Epoch 7/100\n",
      "104000/104000 [==============================] - 3s 26us/step - loss: 0.0032 - acc: 0.9988\n",
      "Epoch 8/100\n",
      "104000/104000 [==============================] - 3s 26us/step - loss: 0.0017 - acc: 0.9995\n",
      "Epoch 9/100\n",
      "104000/104000 [==============================] - 3s 26us/step - loss: 0.0028 - acc: 0.9990\n",
      "Epoch 10/100\n",
      "104000/104000 [==============================] - 3s 26us/step - loss: 0.0025 - acc: 0.9992\n",
      "Epoch 11/100\n",
      "104000/104000 [==============================] - 3s 26us/step - loss: 0.0014 - acc: 0.9996\n",
      "Epoch 12/100\n",
      "104000/104000 [==============================] - 3s 26us/step - loss: 0.0011 - acc: 0.9998\n",
      "Epoch 13/100\n",
      "104000/104000 [==============================] - 3s 26us/step - loss: 8.8400e-04 - acc: 0.9998\n",
      "Epoch 14/100\n",
      "104000/104000 [==============================] - 3s 26us/step - loss: 7.7997e-04 - acc: 0.9998\n",
      "Epoch 15/100\n",
      "104000/104000 [==============================] - 3s 26us/step - loss: 0.0023 - acc: 0.9993\n",
      "Epoch 16/100\n",
      "104000/104000 [==============================] - 3s 26us/step - loss: 0.0016 - acc: 0.9995\n",
      "Epoch 17/100\n",
      "104000/104000 [==============================] - 3s 26us/step - loss: 8.7973e-04 - acc: 0.9998\n",
      "Epoch 18/100\n",
      "104000/104000 [==============================] - 3s 26us/step - loss: 0.0020 - acc: 0.9993\n",
      "Epoch 19/100\n",
      "104000/104000 [==============================] - 3s 26us/step - loss: 0.0013 - acc: 0.9995\n",
      "Epoch 20/100\n",
      "104000/104000 [==============================] - 3s 26us/step - loss: 8.2176e-04 - acc: 0.9998\n",
      "Epoch 21/100\n",
      "104000/104000 [==============================] - 3s 26us/step - loss: 0.0011 - acc: 0.9997\n",
      "Epoch 22/100\n",
      "104000/104000 [==============================] - 3s 26us/step - loss: 0.0014 - acc: 0.9995\n",
      "Epoch 23/100\n",
      "104000/104000 [==============================] - 3s 26us/step - loss: 0.0014 - acc: 0.9995\n",
      "Epoch 24/100\n",
      "104000/104000 [==============================] - 3s 26us/step - loss: 0.0018 - acc: 0.9994\n",
      "Epoch 25/100\n",
      "104000/104000 [==============================] - 3s 26us/step - loss: 0.0080 - acc: 0.9974\n",
      "Epoch 26/100\n",
      "104000/104000 [==============================] - 3s 26us/step - loss: 0.0031 - acc: 0.9989\n",
      "Epoch 27/100\n",
      "104000/104000 [==============================] - 3s 26us/step - loss: 0.0031 - acc: 0.9990\n",
      "Epoch 28/100\n",
      "104000/104000 [==============================] - 3s 26us/step - loss: 0.0027 - acc: 0.9990\n",
      "Epoch 29/100\n",
      "104000/104000 [==============================] - 3s 26us/step - loss: 0.0021 - acc: 0.9993\n",
      "Epoch 30/100\n",
      "104000/104000 [==============================] - 3s 26us/step - loss: 0.0012 - acc: 0.9996\n",
      "Epoch 31/100\n",
      "104000/104000 [==============================] - 3s 26us/step - loss: 0.0012 - acc: 0.9996\n",
      "Epoch 32/100\n",
      "104000/104000 [==============================] - 3s 26us/step - loss: 0.0042 - acc: 0.9985\n",
      "Epoch 33/100\n",
      "104000/104000 [==============================] - 3s 26us/step - loss: 0.0034 - acc: 0.9989\n",
      "Epoch 34/100\n",
      "104000/104000 [==============================] - 3s 27us/step - loss: 0.0140 - acc: 0.9956\n",
      "Epoch 35/100\n",
      "104000/104000 [==============================] - 3s 26us/step - loss: 0.0043 - acc: 0.9985\n",
      "Epoch 36/100\n",
      "104000/104000 [==============================] - 3s 26us/step - loss: 0.0024 - acc: 0.9992\n",
      "Epoch 37/100\n",
      "104000/104000 [==============================] - 3s 27us/step - loss: 0.0017 - acc: 0.9994\n",
      "Epoch 38/100\n",
      "104000/104000 [==============================] - 3s 26us/step - loss: 8.4922e-04 - acc: 0.9997\n",
      "Epoch 39/100\n",
      "104000/104000 [==============================] - 3s 26us/step - loss: 6.0567e-04 - acc: 0.9999\n",
      "Epoch 40/100\n",
      "104000/104000 [==============================] - 3s 26us/step - loss: 3.7088e-04 - acc: 0.9999\n",
      "Epoch 41/100\n",
      "104000/104000 [==============================] - 3s 26us/step - loss: 2.0297e-04 - acc: 1.0000\n",
      "Epoch 42/100\n",
      "104000/104000 [==============================] - 3s 26us/step - loss: 1.8350e-04 - acc: 1.0000\n",
      "Epoch 43/100\n",
      "104000/104000 [==============================] - 3s 26us/step - loss: 1.8322e-04 - acc: 1.0000\n",
      "Epoch 44/100\n",
      "104000/104000 [==============================] - 3s 26us/step - loss: 1.3419e-04 - acc: 1.0000\n",
      "Epoch 45/100\n",
      "104000/104000 [==============================] - 3s 26us/step - loss: 1.0413e-04 - acc: 1.0000\n",
      "Epoch 46/100\n",
      "104000/104000 [==============================] - 3s 26us/step - loss: 8.6886e-05 - acc: 1.0000\n",
      "Epoch 47/100\n",
      "104000/104000 [==============================] - 3s 26us/step - loss: 7.7635e-05 - acc: 1.0000\n",
      "Epoch 48/100\n",
      "104000/104000 [==============================] - 3s 26us/step - loss: 7.2069e-05 - acc: 1.0000\n",
      "Epoch 49/100\n",
      "104000/104000 [==============================] - 3s 26us/step - loss: 6.3012e-05 - acc: 1.0000\n",
      "Epoch 50/100\n",
      "104000/104000 [==============================] - 3s 26us/step - loss: 5.8919e-05 - acc: 1.0000\n",
      "Epoch 51/100\n",
      "104000/104000 [==============================] - 3s 26us/step - loss: 5.4802e-05 - acc: 1.0000\n",
      "Epoch 52/100\n",
      "104000/104000 [==============================] - 3s 26us/step - loss: 5.4775e-05 - acc: 1.0000\n",
      "Epoch 53/100\n",
      "104000/104000 [==============================] - 3s 26us/step - loss: 4.8813e-05 - acc: 1.0000\n",
      "Epoch 54/100\n",
      "104000/104000 [==============================] - 3s 26us/step - loss: 4.5134e-05 - acc: 1.0000\n",
      "Epoch 55/100\n",
      "104000/104000 [==============================] - 3s 26us/step - loss: 4.2526e-05 - acc: 1.0000\n",
      "Epoch 56/100\n",
      "104000/104000 [==============================] - 3s 26us/step - loss: 4.0331e-05 - acc: 1.0000\n",
      "Epoch 57/100\n",
      "104000/104000 [==============================] - 3s 26us/step - loss: 3.7497e-05 - acc: 1.0000\n",
      "Epoch 58/100\n",
      "104000/104000 [==============================] - 3s 26us/step - loss: 3.5457e-05 - acc: 1.0000\n",
      "Epoch 59/100\n",
      "104000/104000 [==============================] - 3s 26us/step - loss: 3.4494e-05 - acc: 1.0000\n",
      "Epoch 60/100\n",
      "104000/104000 [==============================] - 3s 26us/step - loss: 3.2137e-05 - acc: 1.0000\n",
      "Epoch 61/100\n",
      "104000/104000 [==============================] - 3s 26us/step - loss: 3.0911e-05 - acc: 1.0000\n",
      "Epoch 62/100\n",
      "104000/104000 [==============================] - 3s 26us/step - loss: 2.9478e-05 - acc: 1.0000\n",
      "Epoch 63/100\n",
      "104000/104000 [==============================] - 3s 26us/step - loss: 2.8137e-05 - acc: 1.0000\n",
      "Epoch 64/100\n",
      "104000/104000 [==============================] - 3s 26us/step - loss: 2.6779e-05 - acc: 1.0000\n",
      "Epoch 65/100\n",
      "104000/104000 [==============================] - 3s 26us/step - loss: 2.5536e-05 - acc: 1.0000\n",
      "Epoch 66/100\n",
      "104000/104000 [==============================] - 3s 26us/step - loss: 2.4589e-05 - acc: 1.0000\n",
      "Epoch 67/100\n",
      "104000/104000 [==============================] - 3s 26us/step - loss: 2.3651e-05 - acc: 1.0000\n",
      "Epoch 68/100\n",
      "104000/104000 [==============================] - 3s 26us/step - loss: 2.2575e-05 - acc: 1.0000\n",
      "Epoch 69/100\n",
      "104000/104000 [==============================] - 3s 26us/step - loss: 2.1670e-05 - acc: 1.0000\n",
      "Epoch 70/100\n",
      "104000/104000 [==============================] - 3s 26us/step - loss: 2.0923e-05 - acc: 1.0000\n",
      "Epoch 71/100\n",
      "104000/104000 [==============================] - 3s 26us/step - loss: 2.0295e-05 - acc: 1.0000\n",
      "Epoch 72/100\n",
      "104000/104000 [==============================] - 3s 26us/step - loss: 1.9507e-05 - acc: 1.0000\n",
      "Epoch 73/100\n",
      "104000/104000 [==============================] - 3s 26us/step - loss: 1.8658e-05 - acc: 1.0000\n",
      "Epoch 74/100\n",
      "104000/104000 [==============================] - 3s 26us/step - loss: 1.8344e-05 - acc: 1.0000\n",
      "Epoch 75/100\n",
      "104000/104000 [==============================] - 3s 26us/step - loss: 1.7280e-05 - acc: 1.0000\n",
      "Epoch 76/100\n",
      "104000/104000 [==============================] - 3s 26us/step - loss: 1.6631e-05 - acc: 1.0000\n",
      "Epoch 77/100\n",
      "104000/104000 [==============================] - 3s 26us/step - loss: 1.7622e-05 - acc: 1.0000\n",
      "Epoch 78/100\n",
      "104000/104000 [==============================] - 3s 27us/step - loss: 1.5580e-05 - acc: 1.0000\n",
      "Epoch 79/100\n",
      "104000/104000 [==============================] - 3s 26us/step - loss: 1.5102e-05 - acc: 1.0000\n",
      "Epoch 80/100\n",
      "104000/104000 [==============================] - 3s 26us/step - loss: 1.4493e-05 - acc: 1.0000\n",
      "Epoch 81/100\n",
      "104000/104000 [==============================] - 3s 26us/step - loss: 1.4092e-05 - acc: 1.0000\n",
      "Epoch 82/100\n",
      "104000/104000 [==============================] - 3s 26us/step - loss: 1.3474e-05 - acc: 1.0000\n",
      "Epoch 83/100\n",
      "104000/104000 [==============================] - 3s 26us/step - loss: 1.3050e-05 - acc: 1.0000\n",
      "Epoch 84/100\n",
      "104000/104000 [==============================] - 3s 26us/step - loss: 1.2813e-05 - acc: 1.0000\n",
      "Epoch 85/100\n",
      "104000/104000 [==============================] - 3s 26us/step - loss: 1.2271e-05 - acc: 1.0000\n",
      "Epoch 86/100\n",
      "104000/104000 [==============================] - 3s 27us/step - loss: 1.1988e-05 - acc: 1.0000\n",
      "Epoch 87/100\n",
      "104000/104000 [==============================] - 3s 26us/step - loss: 1.1586e-05 - acc: 1.0000\n",
      "Epoch 88/100\n",
      "104000/104000 [==============================] - 3s 27us/step - loss: 1.1223e-05 - acc: 1.0000\n",
      "Epoch 89/100\n",
      "104000/104000 [==============================] - 3s 26us/step - loss: 1.0751e-05 - acc: 1.0000\n",
      "Epoch 90/100\n",
      "104000/104000 [==============================] - 3s 26us/step - loss: 1.0395e-05 - acc: 1.0000\n",
      "Epoch 91/100\n",
      "104000/104000 [==============================] - 3s 26us/step - loss: 1.0319e-05 - acc: 1.0000\n",
      "Epoch 92/100\n",
      "104000/104000 [==============================] - 3s 26us/step - loss: 9.9137e-06 - acc: 1.0000\n",
      "Epoch 93/100\n",
      "104000/104000 [==============================] - 3s 27us/step - loss: 9.7221e-06 - acc: 1.0000\n",
      "Epoch 94/100\n",
      "104000/104000 [==============================] - 3s 26us/step - loss: 9.3216e-06 - acc: 1.0000\n",
      "Epoch 95/100\n",
      "104000/104000 [==============================] - 3s 27us/step - loss: 8.9347e-06 - acc: 1.0000\n",
      "Epoch 96/100\n",
      "104000/104000 [==============================] - 3s 26us/step - loss: 8.7436e-06 - acc: 1.0000\n",
      "Epoch 97/100\n",
      "104000/104000 [==============================] - 3s 26us/step - loss: 8.5317e-06 - acc: 1.0000\n",
      "Epoch 98/100\n",
      "104000/104000 [==============================] - 3s 27us/step - loss: 8.2068e-06 - acc: 1.0000\n",
      "Epoch 99/100\n",
      "104000/104000 [==============================] - 3s 26us/step - loss: 8.0523e-06 - acc: 1.0000\n",
      "Epoch 100/100\n",
      "104000/104000 [==============================] - 3s 27us/step - loss: 7.8110e-06 - acc: 1.0000\n"
     ]
    }
   ],
   "source": [
    "# training\n",
    "batch_size = 2000\n",
    "training_iters = 100\n",
    "history = model.fit(x_train, y_train, batch_size=batch_size, epochs=training_iters, shuffle=True)"
   ]
  },
  {
   "cell_type": "code",
   "execution_count": 66,
   "metadata": {},
   "outputs": [],
   "source": [
    "def cal_acc(direction, speed):\n",
    "    #num1 = num\n",
    "    #num = int(num)\n",
    "    speed = str(speed)\n",
    "    file = './datasets/30balls/' +  direction + speed + '_test.csv'\n",
    "    #file = './datasets/top5_test.csv'\n",
    "    test_up2 = pd.read_csv(file, header=None)\n",
    "    test_up2 = test_up2.fillna(0)\n",
    "    test_up2 = np.array(test_up2)\n",
    "    #test_up2 = test_up2[:,:30]\n",
    "    #print(test_up2.shape)\n",
    "    test_up2 = test_up2.reshape(test_up2.shape[0],row,col)\n",
    "    cnt = np.array([0,0,0,0,0,0,0,0])\n",
    "    pred = model.predict(test_up2)\n",
    "    for i in range (pred.shape[0]):\n",
    "        for j in range (8):\n",
    "            if max(pred[i,:]) == pred[i,j]:\n",
    "                cnt[j] += 1\n",
    "            #else:\n",
    "                #print(i)\n",
    "        #print(\"i = \",i+1)\n",
    "        #print(\"\\n\",cnt)\n",
    "    #print('------------------------------')\n",
    "    return cnt"
   ]
  },
  {
   "cell_type": "code",
   "execution_count": 71,
   "metadata": {},
   "outputs": [
    {
     "data": {
      "text/plain": [
       "array([[245.,   5.,   0.,   0.,   0.,   0.,   0.,   0.],\n",
       "       [  2., 248.,   0.,   0.,   0.,   0.,   0.,   0.],\n",
       "       [  0.,   0., 249.,   1.,   0.,   0.,   0.,   0.],\n",
       "       [  0.,   0.,   2., 248.,   0.,   0.,   0.,   0.],\n",
       "       [  0.,   0.,   0.,   0., 250.,   0.,   0.,   0.],\n",
       "       [  0.,   0.,   0.,   0.,   2., 248.,   0.,   0.],\n",
       "       [  0.,   0.,   0.,   0.,   0.,   0., 250.,   0.],\n",
       "       [  0.,   0.,   0.,   0.,   0.,   0.,   0., 250.]])"
      ]
     },
     "execution_count": 71,
     "metadata": {},
     "output_type": "execute_result"
    }
   ],
   "source": [
    "accuarcy = np.zeros([8,8])\n",
    "accuarcy[0,:] = cal_acc('top', 5)\n",
    "accuarcy[1,:] = cal_acc('top', 6)\n",
    "accuarcy[2,:] = cal_acc('left', 5)\n",
    "accuarcy[3,:] = cal_acc('left', 6)\n",
    "accuarcy[4,:] = cal_acc('right', 5)\n",
    "accuarcy[5,:] = cal_acc('right', 6)\n",
    "accuarcy[6,:] = cal_acc('back', 5)\n",
    "accuarcy[7,:] = cal_acc('back', 6)\n",
    "accuarcy"
   ]
  },
  {
   "cell_type": "code",
   "execution_count": 76,
   "metadata": {},
   "outputs": [
    {
     "data": {
      "text/plain": [
       "(250, 90)"
      ]
     },
     "execution_count": 76,
     "metadata": {},
     "output_type": "execute_result"
    }
   ],
   "source": [
    "top5_test = pd.read_csv('./datasets/30balls/left5_test.csv', header=None)\n",
    "top5_test = np.array(top5_test)\n",
    "top5_test.shape"
   ]
  },
  {
   "cell_type": "code",
   "execution_count": 77,
   "metadata": {
    "scrolled": true
   },
   "outputs": [
    {
     "name": "stdout",
     "output_type": "stream",
     "text": [
      "5.0\n",
      "1/1 [==============================] - 0s 3ms/step\n",
      "[[0.00000092 0.646371   0.         0.00065867 0.         0.00001674\n",
      "  0.00000841 0.3529443 ]]\n",
      "6.0\n",
      "1/1 [==============================] - 0s 3ms/step\n",
      "[[0.00000001 0.99913234 0.         0.00085833 0.         0.00000015\n",
      "  0.00000003 0.00000926]]\n",
      "7.0\n",
      "1/1 [==============================] - 0s 3ms/step\n",
      "[[0.         0.00861369 0.00000016 0.99102986 0.         0.00000013\n",
      "  0.00000003 0.00035618]]\n",
      "8.0\n",
      "1/1 [==============================] - 0s 3ms/step\n",
      "[[0.         0.00000364 0.00000294 0.9999932  0.         0.\n",
      "  0.00000001 0.00000015]]\n",
      "9.0\n",
      "1/1 [==============================] - 0s 4ms/step\n",
      "[[0.         0.00000045 0.0000411  0.9999583  0.00000002 0.\n",
      "  0.         0.00000003]]\n",
      "10.0\n",
      "1/1 [==============================] - 0s 3ms/step\n",
      "[[0.00000007 0.00000076 0.00114765 0.9988512  0.00000024 0.\n",
      "  0.00000001 0.00000013]]\n",
      "11.0\n",
      "1/1 [==============================] - 0s 3ms/step\n",
      "[[0.00000984 0.00000074 0.7420448  0.25794074 0.00000221 0.\n",
      "  0.00000038 0.00000124]]\n",
      "12.0\n",
      "1/1 [==============================] - 0s 3ms/step\n",
      "[[0.00000409 0.00000003 0.9945117  0.00548335 0.00000029 0.\n",
      "  0.00000027 0.00000016]]\n",
      "13.0\n",
      "1/1 [==============================] - 0s 4ms/step\n",
      "[[0.0000006  0.         0.99998665 0.00001267 0.00000002 0.\n",
      "  0.00000009 0.00000001]]\n",
      "14.0\n",
      "1/1 [==============================] - 0s 3ms/step\n",
      "[[0.00000002 0.         1.         0.00000001 0.         0.\n",
      "  0.         0.        ]]\n",
      "15.0\n",
      "1/1 [==============================] - 0s 2ms/step\n",
      "[[0.00000001 0.         1.         0.00000001 0.         0.\n",
      "  0.00000001 0.        ]]\n",
      "16.0\n",
      "1/1 [==============================] - 0s 2ms/step\n",
      "[[0.00000001 0.         1.         0.00000001 0.         0.\n",
      "  0.00000001 0.        ]]\n",
      "17.0\n",
      "1/1 [==============================] - 0s 2ms/step\n",
      "[[0.00000001 0.         1.         0.00000002 0.         0.\n",
      "  0.00000001 0.        ]]\n",
      "18.0\n",
      "1/1 [==============================] - 0s 3ms/step\n",
      "[[0.00000001 0.         1.         0.00000002 0.         0.\n",
      "  0.00000001 0.        ]]\n",
      "19.0\n",
      "1/1 [==============================] - 0s 3ms/step\n",
      "[[0.00000001 0.         1.         0.00000002 0.         0.\n",
      "  0.00000001 0.        ]]\n",
      "20.0\n",
      "1/1 [==============================] - 0s 3ms/step\n",
      "[[0.00000001 0.         1.         0.00000002 0.         0.\n",
      "  0.00000001 0.        ]]\n",
      "21.0\n",
      "1/1 [==============================] - 0s 3ms/step\n",
      "[[0.00000001 0.         1.         0.00000003 0.         0.\n",
      "  0.00000001 0.        ]]\n",
      "22.0\n",
      "1/1 [==============================] - 0s 3ms/step\n",
      "[[0.00000001 0.         1.         0.00000002 0.         0.\n",
      "  0.00000001 0.        ]]\n",
      "23.0\n",
      "1/1 [==============================] - 0s 4ms/step\n",
      "[[0.00000001 0.         1.         0.00000002 0.         0.\n",
      "  0.00000001 0.        ]]\n",
      "24.0\n",
      "1/1 [==============================] - 0s 3ms/step\n",
      "[[0.00000001 0.         1.         0.00000002 0.         0.\n",
      "  0.00000001 0.        ]]\n",
      "25.0\n",
      "1/1 [==============================] - 0s 2ms/step\n",
      "[[0.00000001 0.         1.         0.00000002 0.         0.\n",
      "  0.00000001 0.        ]]\n",
      "26.0\n",
      "1/1 [==============================] - 0s 2ms/step\n",
      "[[0.00000001 0.         1.         0.00000002 0.         0.\n",
      "  0.00000001 0.        ]]\n",
      "27.0\n",
      "1/1 [==============================] - 0s 3ms/step\n",
      "[[0.00000001 0.         1.         0.00000002 0.         0.\n",
      "  0.00000001 0.        ]]\n",
      "28.0\n",
      "1/1 [==============================] - 0s 3ms/step\n",
      "[[0.00000001 0.         1.         0.00000002 0.         0.\n",
      "  0.00000001 0.        ]]\n",
      "29.0\n",
      "1/1 [==============================] - 0s 2ms/step\n",
      "[[0.00000001 0.         1.         0.00000002 0.         0.\n",
      "  0.00000001 0.        ]]\n",
      "30.0\n",
      "1/1 [==============================] - 0s 2ms/step\n",
      "[[0.00000001 0.         1.         0.00000002 0.         0.\n",
      "  0.00000001 0.        ]]\n"
     ]
    }
   ],
   "source": [
    "\n",
    "np.set_printoptions(suppress=True)\n",
    "for i in range(14,90,3):\n",
    "    tmp = top5_test[1,:i]\n",
    "    tmp = tmp.reshape(1, tmp.shape[0])\n",
    "    tmp = sequence.pad_sequences(tmp, maxlen=(row*col), padding='post', dtype='float32')\n",
    "    tmp = tmp.reshape(1, 30, 3)\n",
    "    print((i+1)/3)\n",
    "    preddd = model.predict(tmp, verbose=1)\n",
    "    print(preddd)\n",
    "    #print(tmp.shape)"
   ]
  },
  {
   "cell_type": "code",
   "execution_count": 73,
   "metadata": {},
   "outputs": [],
   "source": [
    "#model.save('./classification_30ball_20200505_256to8')"
   ]
  }
 ],
 "metadata": {
  "kernelspec": {
   "display_name": "Python 3",
   "language": "python",
   "name": "python3"
  },
  "language_info": {
   "codemirror_mode": {
    "name": "ipython",
    "version": 3
   },
   "file_extension": ".py",
   "mimetype": "text/x-python",
   "name": "python",
   "nbconvert_exporter": "python",
   "pygments_lexer": "ipython3",
   "version": "3.6.9"
  }
 },
 "nbformat": 4,
 "nbformat_minor": 4
}
