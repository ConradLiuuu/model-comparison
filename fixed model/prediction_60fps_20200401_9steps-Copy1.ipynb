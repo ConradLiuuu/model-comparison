{
 "cells": [
  {
   "cell_type": "code",
   "execution_count": 1,
   "metadata": {},
   "outputs": [
    {
     "name": "stderr",
     "output_type": "stream",
     "text": [
      "Using TensorFlow backend.\n",
      "/home/lab606a/.virtualenvs/keras/lib/python3.6/site-packages/tensorflow/python/framework/dtypes.py:523: FutureWarning: Passing (type, 1) or '1type' as a synonym of type is deprecated; in a future version of numpy, it will be understood as (type, (1,)) / '(1,)type'.\n",
      "  _np_qint8 = np.dtype([(\"qint8\", np.int8, 1)])\n",
      "/home/lab606a/.virtualenvs/keras/lib/python3.6/site-packages/tensorflow/python/framework/dtypes.py:524: FutureWarning: Passing (type, 1) or '1type' as a synonym of type is deprecated; in a future version of numpy, it will be understood as (type, (1,)) / '(1,)type'.\n",
      "  _np_quint8 = np.dtype([(\"quint8\", np.uint8, 1)])\n",
      "/home/lab606a/.virtualenvs/keras/lib/python3.6/site-packages/tensorflow/python/framework/dtypes.py:525: FutureWarning: Passing (type, 1) or '1type' as a synonym of type is deprecated; in a future version of numpy, it will be understood as (type, (1,)) / '(1,)type'.\n",
      "  _np_qint16 = np.dtype([(\"qint16\", np.int16, 1)])\n",
      "/home/lab606a/.virtualenvs/keras/lib/python3.6/site-packages/tensorflow/python/framework/dtypes.py:526: FutureWarning: Passing (type, 1) or '1type' as a synonym of type is deprecated; in a future version of numpy, it will be understood as (type, (1,)) / '(1,)type'.\n",
      "  _np_quint16 = np.dtype([(\"quint16\", np.uint16, 1)])\n",
      "/home/lab606a/.virtualenvs/keras/lib/python3.6/site-packages/tensorflow/python/framework/dtypes.py:527: FutureWarning: Passing (type, 1) or '1type' as a synonym of type is deprecated; in a future version of numpy, it will be understood as (type, (1,)) / '(1,)type'.\n",
      "  _np_qint32 = np.dtype([(\"qint32\", np.int32, 1)])\n",
      "/home/lab606a/.virtualenvs/keras/lib/python3.6/site-packages/tensorflow/python/framework/dtypes.py:532: FutureWarning: Passing (type, 1) or '1type' as a synonym of type is deprecated; in a future version of numpy, it will be understood as (type, (1,)) / '(1,)type'.\n",
      "  np_resource = np.dtype([(\"resource\", np.ubyte, 1)])\n"
     ]
    }
   ],
   "source": [
    "## import libraries\n",
    "import numpy as np\n",
    "import pandas as pd\n",
    "from keras.preprocessing import sequence\n",
    "from keras.models import Sequential\n",
    "from keras.layers import Dense, LSTM, Activation, TimeDistributed, RepeatVector, Bidirectional, CuDNNLSTM\n",
    "import matplotlib.pyplot as plt\n",
    "#import os\n",
    "import tensorflow as tf\n",
    "from keras.regularizers import l2"
   ]
  },
  {
   "cell_type": "code",
   "execution_count": 2,
   "metadata": {},
   "outputs": [],
   "source": [
    "# set GPU memory\n",
    "gpu_options = tf.GPUOptions(allow_growth=True)\n",
    "sess = tf.Session(config=tf.ConfigProto(gpu_options=gpu_options))"
   ]
  },
  {
   "cell_type": "code",
   "execution_count": 3,
   "metadata": {},
   "outputs": [],
   "source": [
    "n_step = 9"
   ]
  },
  {
   "cell_type": "code",
   "execution_count": 4,
   "metadata": {},
   "outputs": [],
   "source": [
    "def split(data, depth):\n",
    "    dataset = data\n",
    "    depth = depth\n",
    "    X = np.zeros([int(depth), n_step, 3])\n",
    "    Y = np.zeros([int(depth), n_step, 3])\n",
    "    c = 0\n",
    "    d = 0\n",
    "    \n",
    "    for i in range(int(depth)):\n",
    "        for j in range(n_step):\n",
    "            if d < dataset.shape[0]:\n",
    "                X[i,j,:] = dataset[d, c:c+3]\n",
    "                Y[i,j,:] = dataset[d, (c+3*n_step):(c+3*n_step+3)]\n",
    "                \n",
    "                if ((c+3*n_step+3) != (dataset.shape[1])):\n",
    "                    c +=3\n",
    "                else:\n",
    "                    c = 0\n",
    "                    d += 1\n",
    "        if (c-3) > 0:\n",
    "            c = (c - 3*n_step + 3)\n",
    "        else:\n",
    "            c = c\n",
    "            \n",
    "    return X, Y"
   ]
  },
  {
   "cell_type": "code",
   "execution_count": 5,
   "metadata": {},
   "outputs": [
    {
     "data": {
      "text/plain": [
       "(3149, 162)"
      ]
     },
     "execution_count": 5,
     "metadata": {},
     "output_type": "execute_result"
    }
   ],
   "source": [
    "dataset = pd.read_csv('/home/lab606a/Documents/20200331/fixed/original data 60hz/test.csv', header=None)\n",
    "dataset = dataset.fillna(0)\n",
    "dataset = np.array(dataset)\n",
    "dataset.shape"
   ]
  },
  {
   "cell_type": "code",
   "execution_count": 6,
   "metadata": {},
   "outputs": [
    {
     "data": {
      "text/plain": [
       "186"
      ]
     },
     "execution_count": 6,
     "metadata": {},
     "output_type": "execute_result"
    }
   ],
   "source": [
    "maxlen_train = dataset.shape[1]+(n_step-1)*3\n",
    "maxlen_train"
   ]
  },
  {
   "cell_type": "code",
   "execution_count": 7,
   "metadata": {},
   "outputs": [
    {
     "data": {
      "text/plain": [
       "(3378, 129)"
      ]
     },
     "execution_count": 7,
     "metadata": {},
     "output_type": "execute_result"
    }
   ],
   "source": [
    "dataset2 = pd.read_csv('/home/lab606a/Documents/20200331/fixed/original data 60hz/test6.csv', header=None)\n",
    "dataset2 = dataset2.fillna(0)\n",
    "dataset2 = np.array(dataset2)\n",
    "dataset2.shape"
   ]
  },
  {
   "cell_type": "code",
   "execution_count": 8,
   "metadata": {},
   "outputs": [
    {
     "data": {
      "text/plain": [
       "153"
      ]
     },
     "execution_count": 8,
     "metadata": {},
     "output_type": "execute_result"
    }
   ],
   "source": [
    "maxlen_train2 = dataset2.shape[1]+(n_step-1)*3\n",
    "maxlen_train2"
   ]
  },
  {
   "cell_type": "code",
   "execution_count": 9,
   "metadata": {},
   "outputs": [
    {
     "data": {
      "text/plain": [
       "(3149, 186)"
      ]
     },
     "execution_count": 9,
     "metadata": {},
     "output_type": "execute_result"
    }
   ],
   "source": [
    "dataset = sequence.pad_sequences(dataset, maxlen=maxlen_train, padding='post', dtype='float32')\n",
    "dataset.shape"
   ]
  },
  {
   "cell_type": "code",
   "execution_count": 10,
   "metadata": {},
   "outputs": [
    {
     "data": {
      "text/plain": [
       "(3378, 186)"
      ]
     },
     "execution_count": 10,
     "metadata": {},
     "output_type": "execute_result"
    }
   ],
   "source": [
    "dataset2 = sequence.pad_sequences(dataset2, maxlen=maxlen_train, padding='post', dtype='float32')\n",
    "dataset2.shape"
   ]
  },
  {
   "cell_type": "code",
   "execution_count": 11,
   "metadata": {},
   "outputs": [
    {
     "name": "stdout",
     "output_type": "stream",
     "text": [
      "(3149, 186)\n",
      "(3378, 186)\n"
     ]
    }
   ],
   "source": [
    "print(dataset.shape)\n",
    "print(dataset2.shape)"
   ]
  },
  {
   "cell_type": "code",
   "execution_count": 12,
   "metadata": {},
   "outputs": [
    {
     "data": {
      "text/plain": [
       "(6527, 186)"
      ]
     },
     "execution_count": 12,
     "metadata": {},
     "output_type": "execute_result"
    }
   ],
   "source": [
    "dataset = np.vstack((dataset, dataset2))\n",
    "dataset.shape"
   ]
  },
  {
   "cell_type": "code",
   "execution_count": 13,
   "metadata": {},
   "outputs": [],
   "source": [
    "depth_train = (int(dataset.shape[1]/3)+1-n_step-n_step)*dataset.shape[0] # (all_balls + 1 - input_balls - output_balls)*n_rows"
   ]
  },
  {
   "cell_type": "code",
   "execution_count": 14,
   "metadata": {},
   "outputs": [],
   "source": [
    "x_train, y_train = split(data=dataset, depth=depth_train)"
   ]
  },
  {
   "cell_type": "code",
   "execution_count": 15,
   "metadata": {},
   "outputs": [],
   "source": [
    "model = Sequential()\n",
    "model.add(CuDNNLSTM(256, input_shape=(x_train.shape[1], x_train.shape[2]), kernel_regularizer=l2(0.01)))\n",
    "#model.add(LSTM(256, activation='linear', return_sequences=True))\n",
    "#model.add(LSTM(128, activation='linear', return_sequences=True))\n",
    "#model.add(LSTM(64, activation='linear', return_sequences=True))\n",
    "#model.add(CuDNNLSTM(64))\n",
    "model.add(RepeatVector(x_train.shape[1]))\n",
    "#model.add(LSTM(32, activation='linear', return_sequences=True))\n",
    "#model.add(CuDNNLSTM(64, return_sequences=True))\n",
    "#model.add(LSTM(128, activation='linear', return_sequences=True))\n",
    "#model.add(LSTM(64, activation='linear', return_sequences=True))\n",
    "model.add(CuDNNLSTM(256, return_sequences=True ,activity_regularizer=l2(0.01)))\n",
    "model.add(TimeDistributed(Dense(3)))\n",
    "\n",
    "model.compile(loss='mse', optimizer='adam', metrics=['accuracy'])"
   ]
  },
  {
   "cell_type": "code",
   "execution_count": 16,
   "metadata": {},
   "outputs": [],
   "source": [
    "#model.summary()"
   ]
  },
  {
   "cell_type": "code",
   "execution_count": 43,
   "metadata": {
    "scrolled": true
   },
   "outputs": [
    {
     "name": "stdout",
     "output_type": "stream",
     "text": [
      "Epoch 1/100\n",
      "293715/293715 [==============================] - 3s 10us/step - loss: 27.1475 - acc: 0.8102\n",
      "Epoch 2/100\n",
      "293715/293715 [==============================] - 3s 9us/step - loss: 24.8353 - acc: 0.8745\n",
      "Epoch 3/100\n",
      "293715/293715 [==============================] - 3s 9us/step - loss: 23.8072 - acc: 0.8591\n",
      "Epoch 4/100\n",
      "293715/293715 [==============================] - 3s 10us/step - loss: 23.1326 - acc: 0.8562\n",
      "Epoch 5/100\n",
      "293715/293715 [==============================] - 3s 9us/step - loss: 22.5888 - acc: 0.8621\n",
      "Epoch 6/100\n",
      "293715/293715 [==============================] - 3s 10us/step - loss: 22.1376 - acc: 0.8597\n",
      "Epoch 7/100\n",
      "293715/293715 [==============================] - 3s 10us/step - loss: 21.7299 - acc: 0.8612\n",
      "Epoch 8/100\n",
      "293715/293715 [==============================] - 3s 11us/step - loss: 21.3708 - acc: 0.8602 1s - loss: 21.5474 -\n",
      "Epoch 9/100\n",
      "293715/293715 [==============================] - 3s 11us/step - loss: 21.0412 - acc: 0.8617\n",
      "Epoch 10/100\n",
      "293715/293715 [==============================] - 3s 10us/step - loss: 20.7120 - acc: 0.8602\n",
      "Epoch 11/100\n",
      "293715/293715 [==============================] - 3s 11us/step - loss: 20.4298 - acc: 0.8597\n",
      "Epoch 12/100\n",
      "293715/293715 [==============================] - 3s 10us/step - loss: 20.1550 - acc: 0.8606\n",
      "Epoch 13/100\n",
      "293715/293715 [==============================] - 3s 10us/step - loss: 19.9020 - acc: 0.8576\n",
      "Epoch 14/100\n",
      "293715/293715 [==============================] - 3s 10us/step - loss: 19.6609 - acc: 0.8586\n",
      "Epoch 15/100\n",
      "293715/293715 [==============================] - 3s 10us/step - loss: 19.4085 - acc: 0.8585\n",
      "Epoch 16/100\n",
      "293715/293715 [==============================] - 3s 10us/step - loss: 19.1744 - acc: 0.8588\n",
      "Epoch 17/100\n",
      "293715/293715 [==============================] - 3s 10us/step - loss: 18.9889 - acc: 0.8581\n",
      "Epoch 18/100\n",
      "293715/293715 [==============================] - 3s 10us/step - loss: 18.7804 - acc: 0.8590\n",
      "Epoch 19/100\n",
      "293715/293715 [==============================] - 3s 10us/step - loss: 18.5735 - acc: 0.8593\n",
      "Epoch 20/100\n",
      "293715/293715 [==============================] - 3s 10us/step - loss: 18.3579 - acc: 0.8583\n",
      "Epoch 21/100\n",
      "293715/293715 [==============================] - 3s 10us/step - loss: 18.1864 - acc: 0.8590\n",
      "Epoch 22/100\n",
      "293715/293715 [==============================] - 3s 10us/step - loss: 17.9813 - acc: 0.8533\n",
      "Epoch 23/100\n",
      "293715/293715 [==============================] - 3s 10us/step - loss: 17.8134 - acc: 0.8569\n",
      "Epoch 24/100\n",
      "293715/293715 [==============================] - 3s 10us/step - loss: 17.6487 - acc: 0.8500\n",
      "Epoch 25/100\n",
      "293715/293715 [==============================] - 3s 10us/step - loss: 17.5161 - acc: 0.8439\n",
      "Epoch 26/100\n",
      "293715/293715 [==============================] - 3s 10us/step - loss: 17.3257 - acc: 0.8452\n",
      "Epoch 27/100\n",
      "293715/293715 [==============================] - 3s 10us/step - loss: 17.1852 - acc: 0.8447\n",
      "Epoch 28/100\n",
      "293715/293715 [==============================] - 3s 10us/step - loss: 17.0124 - acc: 0.8452\n",
      "Epoch 29/100\n",
      "293715/293715 [==============================] - 3s 10us/step - loss: 16.8777 - acc: 0.8452\n",
      "Epoch 30/100\n",
      "293715/293715 [==============================] - 3s 10us/step - loss: 16.7743 - acc: 0.8470\n",
      "Epoch 31/100\n",
      "293715/293715 [==============================] - 3s 10us/step - loss: 16.6249 - acc: 0.8439\n",
      "Epoch 32/100\n",
      "293715/293715 [==============================] - 3s 10us/step - loss: 16.4720 - acc: 0.8453\n",
      "Epoch 33/100\n",
      "293715/293715 [==============================] - 3s 11us/step - loss: 16.3017 - acc: 0.8466\n",
      "Epoch 34/100\n",
      "293715/293715 [==============================] - 3s 11us/step - loss: 16.1759 - acc: 0.8469\n",
      "Epoch 35/100\n",
      "293715/293715 [==============================] - 3s 11us/step - loss: 16.0386 - acc: 0.8460\n",
      "Epoch 36/100\n",
      "293715/293715 [==============================] - 3s 11us/step - loss: 15.9269 - acc: 0.8454\n",
      "Epoch 37/100\n",
      "293715/293715 [==============================] - 3s 11us/step - loss: 15.7672 - acc: 0.8470\n",
      "Epoch 38/100\n",
      "293715/293715 [==============================] - 3s 10us/step - loss: 15.6492 - acc: 0.8472\n",
      "Epoch 39/100\n",
      "293715/293715 [==============================] - 3s 11us/step - loss: 15.5374 - acc: 0.8441\n",
      "Epoch 40/100\n",
      "293715/293715 [==============================] - 3s 11us/step - loss: 15.4351 - acc: 0.8467\n",
      "Epoch 41/100\n",
      "293715/293715 [==============================] - 3s 11us/step - loss: 15.2753 - acc: 0.8464\n",
      "Epoch 42/100\n",
      "293715/293715 [==============================] - 3s 11us/step - loss: 15.1418 - acc: 0.8475\n",
      "Epoch 43/100\n",
      "293715/293715 [==============================] - 3s 11us/step - loss: 15.0298 - acc: 0.8459\n",
      "Epoch 44/100\n",
      "293715/293715 [==============================] - 3s 11us/step - loss: 14.9373 - acc: 0.8461\n",
      "Epoch 45/100\n",
      "293715/293715 [==============================] - 3s 11us/step - loss: 14.8673 - acc: 0.8460\n",
      "Epoch 46/100\n",
      "293715/293715 [==============================] - 3s 11us/step - loss: 14.7527 - acc: 0.8488\n",
      "Epoch 47/100\n",
      "293715/293715 [==============================] - 3s 11us/step - loss: 14.6315 - acc: 0.8457\n",
      "Epoch 48/100\n",
      "293715/293715 [==============================] - 3s 11us/step - loss: 14.4703 - acc: 0.8451\n",
      "Epoch 49/100\n",
      "293715/293715 [==============================] - 3s 11us/step - loss: 14.3283 - acc: 0.8446\n",
      "Epoch 50/100\n",
      "293715/293715 [==============================] - 3s 11us/step - loss: 14.2482 - acc: 0.8442\n",
      "Epoch 51/100\n",
      "293715/293715 [==============================] - 3s 11us/step - loss: 14.2005 - acc: 0.8445\n",
      "Epoch 52/100\n",
      "293715/293715 [==============================] - 3s 11us/step - loss: 14.1273 - acc: 0.8447\n",
      "Epoch 53/100\n",
      "293715/293715 [==============================] - 3s 11us/step - loss: 14.2149 - acc: 0.8483\n",
      "Epoch 54/100\n",
      "293715/293715 [==============================] - 3s 11us/step - loss: 13.8804 - acc: 0.8463\n",
      "Epoch 55/100\n",
      "293715/293715 [==============================] - 3s 11us/step - loss: 13.7755 - acc: 0.8561\n",
      "Epoch 56/100\n",
      "293715/293715 [==============================] - 3s 11us/step - loss: 13.7449 - acc: 0.8495\n",
      "Epoch 57/100\n",
      "293715/293715 [==============================] - 3s 11us/step - loss: 13.6071 - acc: 0.8620\n",
      "Epoch 58/100\n",
      "293715/293715 [==============================] - 3s 11us/step - loss: 13.5609 - acc: 0.8569\n",
      "Epoch 59/100\n",
      "293715/293715 [==============================] - 3s 11us/step - loss: 13.4555 - acc: 0.8598\n",
      "Epoch 60/100\n",
      "293715/293715 [==============================] - 3s 11us/step - loss: 13.4085 - acc: 0.8632\n",
      "Epoch 61/100\n",
      "293715/293715 [==============================] - 3s 11us/step - loss: 13.2519 - acc: 0.8627\n",
      "Epoch 62/100\n",
      "293715/293715 [==============================] - 3s 11us/step - loss: 13.2736 - acc: 0.8635\n",
      "Epoch 63/100\n",
      "293715/293715 [==============================] - 3s 11us/step - loss: 13.1625 - acc: 0.8633\n",
      "Epoch 64/100\n",
      "293715/293715 [==============================] - 3s 11us/step - loss: 13.1341 - acc: 0.8646\n",
      "Epoch 65/100\n",
      "293715/293715 [==============================] - 3s 11us/step - loss: 13.0349 - acc: 0.8627\n",
      "Epoch 66/100\n",
      "293715/293715 [==============================] - 3s 11us/step - loss: 13.0315 - acc: 0.8657\n",
      "Epoch 67/100\n",
      "293715/293715 [==============================] - 3s 11us/step - loss: 13.0378 - acc: 0.8628\n",
      "Epoch 68/100\n",
      "293715/293715 [==============================] - 3s 11us/step - loss: 12.8082 - acc: 0.8642\n",
      "Epoch 69/100\n",
      "293715/293715 [==============================] - 3s 11us/step - loss: 12.7170 - acc: 0.8670\n",
      "Epoch 70/100\n",
      "293715/293715 [==============================] - 3s 11us/step - loss: 12.6637 - acc: 0.8568\n",
      "Epoch 71/100\n",
      "293715/293715 [==============================] - 3s 11us/step - loss: 12.5533 - acc: 0.8637\n",
      "Epoch 72/100\n",
      "293715/293715 [==============================] - 3s 11us/step - loss: 12.6497 - acc: 0.8647\n",
      "Epoch 73/100\n",
      "293715/293715 [==============================] - 3s 11us/step - loss: 12.6202 - acc: 0.8689\n",
      "Epoch 74/100\n",
      "293715/293715 [==============================] - 3s 11us/step - loss: 12.6454 - acc: 0.8600\n",
      "Epoch 75/100\n",
      "293715/293715 [==============================] - 3s 11us/step - loss: 12.4186 - acc: 0.8602\n",
      "Epoch 76/100\n",
      "293715/293715 [==============================] - 3s 11us/step - loss: 12.3411 - acc: 0.8681\n",
      "Epoch 77/100\n",
      "293715/293715 [==============================] - 3s 11us/step - loss: 12.2202 - acc: 0.8616\n",
      "Epoch 78/100\n"
     ]
    },
    {
     "name": "stdout",
     "output_type": "stream",
     "text": [
      "293715/293715 [==============================] - 3s 11us/step - loss: 12.1705 - acc: 0.8670\n",
      "Epoch 79/100\n",
      "293715/293715 [==============================] - 3s 11us/step - loss: 12.1566 - acc: 0.8611\n",
      "Epoch 80/100\n",
      "293715/293715 [==============================] - 3s 11us/step - loss: 12.0888 - acc: 0.8618\n",
      "Epoch 81/100\n",
      "293715/293715 [==============================] - 3s 11us/step - loss: 12.0508 - acc: 0.8612\n",
      "Epoch 82/100\n",
      "293715/293715 [==============================] - 3s 11us/step - loss: 12.3815 - acc: 0.8613\n",
      "Epoch 83/100\n",
      "293715/293715 [==============================] - 3s 10us/step - loss: 12.1454 - acc: 0.8682\n",
      "Epoch 84/100\n",
      "293715/293715 [==============================] - 3s 11us/step - loss: 11.8941 - acc: 0.8653 2s - los\n",
      "Epoch 85/100\n",
      "293715/293715 [==============================] - 3s 11us/step - loss: 11.8687 - acc: 0.8653\n",
      "Epoch 86/100\n",
      "293715/293715 [==============================] - 3s 11us/step - loss: 11.8566 - acc: 0.8615\n",
      "Epoch 87/100\n",
      "293715/293715 [==============================] - 3s 11us/step - loss: 11.6785 - acc: 0.8692\n",
      "Epoch 88/100\n",
      "293715/293715 [==============================] - 3s 11us/step - loss: 11.6974 - acc: 0.8667\n",
      "Epoch 89/100\n",
      "293715/293715 [==============================] - 3s 11us/step - loss: 11.6709 - acc: 0.8685\n",
      "Epoch 90/100\n",
      "293715/293715 [==============================] - 3s 11us/step - loss: 11.6905 - acc: 0.8680\n",
      "Epoch 91/100\n",
      "293715/293715 [==============================] - 3s 11us/step - loss: 11.5157 - acc: 0.8637\n",
      "Epoch 92/100\n",
      "293715/293715 [==============================] - 3s 11us/step - loss: 11.4640 - acc: 0.8695\n",
      "Epoch 93/100\n",
      "293715/293715 [==============================] - 3s 11us/step - loss: 11.4188 - acc: 0.8690\n",
      "Epoch 94/100\n",
      "293715/293715 [==============================] - 3s 11us/step - loss: 11.3501 - acc: 0.8676\n",
      "Epoch 95/100\n",
      "293715/293715 [==============================] - 3s 11us/step - loss: 11.3436 - acc: 0.8698\n",
      "Epoch 96/100\n",
      "293715/293715 [==============================] - 3s 11us/step - loss: 11.2848 - acc: 0.8660\n",
      "Epoch 97/100\n",
      "293715/293715 [==============================] - 3s 11us/step - loss: 11.3127 - acc: 0.8680\n",
      "Epoch 98/100\n",
      "293715/293715 [==============================] - 3s 11us/step - loss: 11.2983 - acc: 0.8691\n",
      "Epoch 99/100\n",
      "293715/293715 [==============================] - 3s 11us/step - loss: 11.1424 - acc: 0.8683\n",
      "Epoch 100/100\n",
      "293715/293715 [==============================] - 3s 11us/step - loss: 11.1465 - acc: 0.8677\n"
     ]
    }
   ],
   "source": [
    "history = model.fit(x_train, y_train, batch_size=20000, epochs=1000, shuffle=True)"
   ]
  },
  {
   "cell_type": "code",
   "execution_count": 18,
   "metadata": {},
   "outputs": [
    {
     "data": {
      "image/png": "[encoded data removed]",
      "text/plain": [
       "<Figure size 432x288 with 1 Axes>"
      ]
     },
     "metadata": {
      "needs_background": "light"
     },
     "output_type": "display_data"
    }
   ],
   "source": [
    "# plot accuracy history\n",
    "# summarize history for accuracy \n",
    "plt.plot(history.history['acc'])\n",
    "#plt.plot(history.history['val_accuracy'])\n",
    "plt.title('model accuracy')\n",
    "plt.ylabel('accuracy')\n",
    "plt.xlabel('epoch')\n",
    "plt.legend(['train', 'test'], loc='upper left')\n",
    "#acc_png = './training history/' + file_name + '_accuracy.png'\n",
    "#plt.savefig(acc_png)\n",
    "plt.show()"
   ]
  },
  {
   "cell_type": "code",
   "execution_count": 19,
   "metadata": {},
   "outputs": [],
   "source": [
    "np.set_printoptions(suppress=True)"
   ]
  },
  {
   "cell_type": "code",
   "execution_count": 35,
   "metadata": {},
   "outputs": [],
   "source": [
    "num = 1000"
   ]
  },
  {
   "cell_type": "code",
   "execution_count": 36,
   "metadata": {},
   "outputs": [
    {
     "name": "stdout",
     "output_type": "stream",
     "text": [
      "[[ 79.91120148 204.09899902  45.3044014 ]\n",
      " [ 79.93740082 195.16799927  44.03939819]\n",
      " [ 80.14820099 185.77400208  42.58110046]\n",
      " [ 79.78710175 178.35800171  40.45669937]\n",
      " [ 79.60009766 169.60400391  38.35770035]\n",
      " [ 79.57959747 159.71600342  35.72029877]\n",
      " [ 79.38629913 150.92599487  33.62080002]\n",
      " [ 79.01660156 142.45300293  30.87509918]\n",
      " [ 78.82610321 133.6519928   27.87319946]]\n",
      "[[ 78.31590271 126.38800049  24.28590012]\n",
      " [ 78.12999725 117.55000305  20.86120033]\n",
      " [ 77.79199982 109.59200287  17.06089973]\n",
      " [ 77.30760193 102.39800262  12.71010017]\n",
      " [ 76.64450073  93.71389771   9.02048969]\n",
      " [ 76.16249847  85.33959961   4.32216978]\n",
      " [ 75.55619812  78.21289825  -0.25090399]\n",
      " [ 74.5684967   72.63140106   3.15877008]\n",
      " [ 73.77189636  66.43309784   7.29325008]]\n"
     ]
    }
   ],
   "source": [
    "print(x_train[num,:,:])\n",
    "print(y_train[num,:,:])"
   ]
  },
  {
   "cell_type": "code",
   "execution_count": 48,
   "metadata": {},
   "outputs": [
    {
     "name": "stdout",
     "output_type": "stream",
     "text": [
      "1/1 [==============================] - 0s 2ms/step\n",
      "[[[ 78.843956  125.86742    24.15256  ]\n",
      "  [ 78.34215   117.18487    20.954178 ]\n",
      "  [ 77.689735  108.0788     16.697031 ]\n",
      "  [ 77.08971   100.0627     12.279612 ]\n",
      "  [ 76.67307    92.05899     7.9627395]\n",
      "  [ 76.15143    84.01892     4.2557626]\n",
      "  [ 75.49406    76.46855     3.2476673]\n",
      "  [ 74.786255   69.68734     5.8441296]\n",
      "  [ 73.99771    63.02037     9.373645 ]]]\n"
     ]
    }
   ],
   "source": [
    "y_pred = model.predict(x_train[num,:,:].reshape(1,9,3), verbose=1)\n",
    "print(y_pred)"
   ]
  },
  {
   "cell_type": "code",
   "execution_count": 49,
   "metadata": {},
   "outputs": [
    {
     "data": {
      "text/plain": [
       "array([[[-0.52805328,  0.52058411,  0.13334084],\n",
       "        [-0.21215057,  0.36513519, -0.09297752],\n",
       "        [ 0.1022644 ,  1.51320648,  0.36386871],\n",
       "        [ 0.21789551,  2.33530426,  0.43048859],\n",
       "        [-0.02857208,  1.65490723,  1.05775023],\n",
       "        [ 0.01107025,  1.32067871,  0.0664072 ],\n",
       "        [ 0.06214142,  1.74434662, -3.49857131],\n",
       "        [-0.21775818,  2.94406128, -2.68535948],\n",
       "        [-0.22581482,  3.41272736, -2.08039474]]])"
      ]
     },
     "execution_count": 49,
     "metadata": {},
     "output_type": "execute_result"
    }
   ],
   "source": [
    "#\n",
    "error = y_train[num,:,:].reshape(1,9,3)-y_pred\n",
    "error"
   ]
  },
  {
   "cell_type": "code",
   "execution_count": 31,
   "metadata": {},
   "outputs": [],
   "source": [
    "#model.save('./saved model/20200505/prediction_all_test')"
   ]
  },
  {
   "cell_type": "code",
   "execution_count": null,
   "metadata": {},
   "outputs": [],
   "source": []
  }
 ],
 "metadata": {
  "kernelspec": {
   "display_name": "Python 3",
   "language": "python",
   "name": "python3"
  },
  "language_info": {
   "codemirror_mode": {
    "name": "ipython",
    "version": 3
   },
   "file_extension": ".py",
   "mimetype": "text/x-python",
   "name": "python",
   "nbconvert_exporter": "python",
   "pygments_lexer": "ipython3",
   "version": "3.6.9"
  }
 },
 "nbformat": 4,
 "nbformat_minor": 4
}
