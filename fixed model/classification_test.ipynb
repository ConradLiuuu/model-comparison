{
 "cells": [
  {
   "cell_type": "code",
   "execution_count": 28,
   "metadata": {},
   "outputs": [],
   "source": [
    "import tensorflow as tf\n",
    "import numpy as np\n",
    "import pandas as pd\n",
    "import cupy as cp\n",
    "from keras.models import load_model\n",
    "from keras.preprocessing import sequence\n",
    "import matplotlib.pyplot as plt"
   ]
  },
  {
   "cell_type": "code",
   "execution_count": 9,
   "metadata": {},
   "outputs": [],
   "source": [
    "# set GPU memory\n",
    "gpu_options = tf.GPUOptions(allow_growth=True)\n",
    "sess = tf.Session(config=tf.ConfigProto(gpu_options=gpu_options))"
   ]
  },
  {
   "cell_type": "code",
   "execution_count": 10,
   "metadata": {},
   "outputs": [],
   "source": [
    "model = load_model('./classification_30ball_20200505_256to8')"
   ]
  },
  {
   "cell_type": "code",
   "execution_count": 17,
   "metadata": {},
   "outputs": [
    {
     "data": {
      "text/plain": [
       "(250, 90)"
      ]
     },
     "execution_count": 17,
     "metadata": {},
     "output_type": "execute_result"
    }
   ],
   "source": [
    "top5_test = pd.read_csv('./datasets/30balls/top5_test.csv', header=None)\n",
    "top5_test = np.array(top5_test)\n",
    "top5_test.shape"
   ]
  },
  {
   "cell_type": "code",
   "execution_count": 18,
   "metadata": {},
   "outputs": [],
   "source": [
    "row = 30\n",
    "col = 3"
   ]
  },
  {
   "cell_type": "code",
   "execution_count": 19,
   "metadata": {},
   "outputs": [],
   "source": [
    "np.set_printoptions(suppress=True)"
   ]
  },
  {
   "cell_type": "code",
   "execution_count": 98,
   "metadata": {
    "scrolled": true
   },
   "outputs": [
    {
     "name": "stdout",
     "output_type": "stream",
     "text": [
      "1/1 [==============================] - 0s 3ms/step\n",
      "1/1 [==============================] - 0s 3ms/step\n",
      "1/1 [==============================] - 0s 3ms/step\n",
      "1/1 [==============================] - 0s 4ms/step\n",
      "1/1 [==============================] - 0s 3ms/step\n",
      "1/1 [==============================] - 0s 3ms/step\n",
      "1/1 [==============================] - 0s 3ms/step\n",
      "1/1 [==============================] - 0s 2ms/step\n",
      "1/1 [==============================] - 0s 3ms/step\n",
      "1/1 [==============================] - 0s 3ms/step\n",
      "1/1 [==============================] - 0s 2ms/step\n",
      "1/1 [==============================] - 0s 2ms/step\n",
      "1/1 [==============================] - 0s 2ms/step\n",
      "1/1 [==============================] - 0s 2ms/step\n",
      "1/1 [==============================] - 0s 2ms/step\n",
      "1/1 [==============================] - 0s 2ms/step\n",
      "1/1 [==============================] - 0s 2ms/step\n",
      "1/1 [==============================] - 0s 2ms/step\n",
      "1/1 [==============================] - 0s 2ms/step\n",
      "1/1 [==============================] - 0s 2ms/step\n",
      "1/1 [==============================] - 0s 2ms/step\n",
      "1/1 [==============================] - 0s 3ms/step\n",
      "1/1 [==============================] - 0s 3ms/step\n",
      "1/1 [==============================] - 0s 2ms/step\n",
      "1/1 [==============================] - 0s 2ms/step\n",
      "1/1 [==============================] - 0s 2ms/step\n"
     ]
    },
    {
     "data": {
      "image/png": "[encoded data removed]",
      "text/plain": [
       "<Figure size 432x288 with 1 Axes>"
      ]
     },
     "metadata": {
      "needs_background": "light"
     },
     "output_type": "display_data"
    }
   ],
   "source": [
    "prob = np.zeros((1,8))\n",
    "for i in range(14,90,3):\n",
    "    tmp = top5_test[1,:i]\n",
    "    tmp = tmp.reshape(1, tmp.shape[0])\n",
    "    tmp = sequence.pad_sequences(tmp, maxlen=(row*col), padding='post', dtype='float32')\n",
    "    tmp = tmp.reshape(1, 30, 3)\n",
    "    #print((i+1)/3)\n",
    "    preddd = model.predict(tmp, verbose=1)\n",
    "    #print(preddd)\n",
    "    prob = np.vstack((prob, preddd))\n",
    "    \n",
    "prob = prob[1:,:]\n",
    "plt.plot(np.arange(0+5,prob.shape[0]+5,1), prob[:,0], color='b')\n",
    "plt.scatter(np.arange(0+5,prob.shape[0]+5,1), prob[:,0], color='b', marker='s', label='top5')\n",
    "\n",
    "plt.plot(np.arange(0+5,prob.shape[0]+5,1), prob[:,1], color='r')\n",
    "plt.scatter(np.arange(0+5,prob.shape[0]+5,1), prob[:,1], color='r', marker='o', label='top6')\n",
    "\n",
    "plt.grid(True)\n",
    "plt.xlabel('Number of balls')\n",
    "plt.ylabel('Accuracy')\n",
    "plt.legend()\n",
    "plt.tight_layout()\n",
    "plt.savefig('/home/lab606a/Pictures/increasing2.png')"
   ]
  },
  {
   "cell_type": "code",
   "execution_count": 101,
   "metadata": {},
   "outputs": [
    {
     "ename": "AttributeError",
     "evalue": "'Figure' object has no attribute 'plot'",
     "output_type": "error",
     "traceback": [
      "\u001b[0;31m---------------------------------------------------------------------------\u001b[0m",
      "\u001b[0;31mAttributeError\u001b[0m                            Traceback (most recent call last)",
      "\u001b[0;32m<ipython-input-101-c9ad24e75e50>\u001b[0m in \u001b[0;36m<module>\u001b[0;34m\u001b[0m\n\u001b[1;32m      1\u001b[0m \u001b[0max\u001b[0m \u001b[0;34m=\u001b[0m \u001b[0mplt\u001b[0m\u001b[0;34m.\u001b[0m\u001b[0mfigure\u001b[0m\u001b[0;34m(\u001b[0m\u001b[0;34m)\u001b[0m\u001b[0;34m\u001b[0m\u001b[0;34m\u001b[0m\u001b[0m\n\u001b[0;32m----> 2\u001b[0;31m \u001b[0max\u001b[0m\u001b[0;34m.\u001b[0m\u001b[0mplot\u001b[0m\u001b[0;34m(\u001b[0m\u001b[0mnp\u001b[0m\u001b[0;34m.\u001b[0m\u001b[0marray\u001b[0m\u001b[0;34m(\u001b[0m\u001b[0;34m[\u001b[0m\u001b[0;36m1\u001b[0m\u001b[0;34m,\u001b[0m\u001b[0;36m2\u001b[0m\u001b[0;34m,\u001b[0m\u001b[0;36m3\u001b[0m\u001b[0;34m]\u001b[0m\u001b[0;34m)\u001b[0m\u001b[0;34m,\u001b[0m\u001b[0mnp\u001b[0m\u001b[0;34m.\u001b[0m\u001b[0marray\u001b[0m\u001b[0;34m(\u001b[0m\u001b[0;34m[\u001b[0m\u001b[0;36m1\u001b[0m\u001b[0;34m,\u001b[0m\u001b[0;36m2\u001b[0m\u001b[0;34m,\u001b[0m\u001b[0;36m3\u001b[0m\u001b[0;34m]\u001b[0m\u001b[0;34m)\u001b[0m\u001b[0;34m)\u001b[0m\u001b[0;34m\u001b[0m\u001b[0;34m\u001b[0m\u001b[0m\n\u001b[0m",
      "\u001b[0;31mAttributeError\u001b[0m: 'Figure' object has no attribute 'plot'"
     ]
    },
    {
     "data": {
      "text/plain": [
       "<Figure size 432x288 with 0 Axes>"
      ]
     },
     "metadata": {},
     "output_type": "display_data"
    }
   ],
   "source": [
    "ax = plt.figure()\n",
    "ax.plot(np.array([1,2,3]),np.array([1,2,3]))"
   ]
  },
  {
   "cell_type": "code",
   "execution_count": 27,
   "metadata": {},
   "outputs": [
    {
     "data": {
      "text/plain": [
       "(26, 8)"
      ]
     },
     "execution_count": 27,
     "metadata": {},
     "output_type": "execute_result"
    }
   ],
   "source": [
    "prob = prob[1:,:]\n",
    "prob.shape"
   ]
  },
  {
   "cell_type": "code",
   "execution_count": 36,
   "metadata": {},
   "outputs": [
    {
     "data": {
      "image/png": "[encoded data removed]",
      "text/plain": [
       "<Figure size 432x288 with 1 Axes>"
      ]
     },
     "metadata": {
      "needs_background": "light"
     },
     "output_type": "display_data"
    }
   ],
   "source": [
    "plt.plot(np.arange(1,prob.shape[0]+1,1), prob[:,0], color='b')\n",
    "plt.scatter(np.arange(1,prob.shape[0]+1,1), prob[:,0], color='b', marker='s')\n",
    "\n",
    "plt.plot(np.arange(1,prob.shape[0]+1,1), prob[:,1], color='r')\n",
    "plt.scatter(np.arange(1,prob.shape[0]+1,1), prob[:,1], color='r', marker='o')\n",
    "\n",
    "plt.grid(True)"
   ]
  },
  {
   "cell_type": "code",
   "execution_count": 88,
   "metadata": {},
   "outputs": [
    {
     "data": {
      "image/png": "[encoded data removed]",
      "text/plain": [
       "<Figure size 432x288 with 1 Axes>"
      ]
     },
     "metadata": {
      "needs_background": "light"
     },
     "output_type": "display_data"
    }
   ],
   "source": [
    "#plt.plot(np.arange(0,prob.shape[0],1), prob)\n",
    "#plt.scatter(np.arange(0,prob.shape[0],1), prob, marker='o')\n",
    "\n",
    "for i in range(prob.shape[1]):\n",
    "    #print(i)\n",
    "    plt.scatter(np.arange(0,prob.shape[0],1), prob[:,i], marker='o')\n",
    "    plt.plot(np.arange(0,prob.shape[0],1), prob[:,i])\n",
    "#plt.show()\n",
    "#plt.scatter(np.arange(0,prob.shape[0],1), prob[:,:], marker='o')\n",
    "plt.grid(True)"
   ]
  },
  {
   "cell_type": "code",
   "execution_count": 15,
   "metadata": {
    "scrolled": true
   },
   "outputs": [
    {
     "data": {
      "text/plain": [
       "'\\nfor i in range(14,90,3):\\n    tmp = top5_test[0,:i]\\n    tmp = tmp.reshape(1, tmp.shape[0])\\n    tmp = sequence.pad_sequences(cp.asnumpy(tmp), maxlen=(row*col), padding=\\'post\\', dtype=\\'float32\\')\\n    tmp = tmp.reshape(1, 30, 3)\\n    #print((i+1)/3)\\n    #print(type(tmp))\\n    now = rospy.get_time()\\n    preddd = model.predict(tmp, batch_size=None, verbose=1)\\n    now2 = rospy.get_time()\\n    print(\"taken time =\",now2-now)\\n    #print(preddd)\\n'"
      ]
     },
     "execution_count": 15,
     "metadata": {},
     "output_type": "execute_result"
    }
   ],
   "source": [
    "'''\n",
    "for i in range(14,90,3):\n",
    "    tmp = top5_test[0,:i]\n",
    "    tmp = tmp.reshape(1, tmp.shape[0])\n",
    "    tmp = sequence.pad_sequences(cp.asnumpy(tmp), maxlen=(row*col), padding='post', dtype='float32')\n",
    "    tmp = tmp.reshape(1, 30, 3)\n",
    "    #print((i+1)/3)\n",
    "    #print(type(tmp))\n",
    "    now = rospy.get_time()\n",
    "    preddd = model.predict(tmp, batch_size=None, verbose=1)\n",
    "    now2 = rospy.get_time()\n",
    "    print(\"taken time =\",now2-now)\n",
    "    #print(preddd)\n",
    "'''"
   ]
  },
  {
   "cell_type": "code",
   "execution_count": null,
   "metadata": {},
   "outputs": [],
   "source": []
  }
 ],
 "metadata": {
  "kernelspec": {
   "display_name": "Python 3",
   "language": "python",
   "name": "python3"
  },
  "language_info": {
   "codemirror_mode": {
    "name": "ipython",
    "version": 3
   },
   "file_extension": ".py",
   "mimetype": "text/x-python",
   "name": "python",
   "nbconvert_exporter": "python",
   "pygments_lexer": "ipython3",
   "version": "3.6.9"
  }
 },
 "nbformat": 4,
 "nbformat_minor": 4
}
