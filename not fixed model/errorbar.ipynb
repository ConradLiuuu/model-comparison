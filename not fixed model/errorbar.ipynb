{
 "cells": [
  {
   "cell_type": "code",
   "execution_count": 81,
   "metadata": {},
   "outputs": [],
   "source": [
    "import numpy as np\n",
    "import pandas as pd\n",
    "import matplotlib.pyplot as plt\n",
    "from scipy.stats import norm"
   ]
  },
  {
   "cell_type": "code",
   "execution_count": 82,
   "metadata": {},
   "outputs": [],
   "source": [
    "top5 = np.array(pd.read_csv('./data/tt/independent/top5_model_error_distribution.csv', header=None))\n",
    "top6 = np.array(pd.read_csv('./data/tt/independent/top6_model_error_distribution.csv', header=None))"
   ]
  },
  {
   "cell_type": "code",
   "execution_count": 83,
   "metadata": {},
   "outputs": [],
   "source": [
    "top5_all = np.array(pd.read_csv('./data/tt/all/top5_all_data_model_error_distribution.csv', header=None))\n",
    "top5_all_bidir = np.array(pd.read_csv('./data/tt/bidir all/top5_bidir_all_data_model_error_distribution.csv', header=None))"
   ]
  },
  {
   "cell_type": "code",
   "execution_count": 84,
   "metadata": {},
   "outputs": [],
   "source": [
    "indep_ = np.zeros((8,2))\n",
    "all_ = np.zeros((8,2))\n",
    "bidir_all_ = np.zeros((8,2))"
   ]
  },
  {
   "cell_type": "code",
   "execution_count": 85,
   "metadata": {},
   "outputs": [
    {
     "data": {
      "text/plain": [
       "array([[15.27922359, 60.47399266],\n",
       "       [20.92446468, 61.13015295],\n",
       "       [14.00011729, 58.72367244],\n",
       "       [18.28739123, 77.72263089],\n",
       "       [10.09072057, 44.60536936],\n",
       "       [15.59223387, 56.27710726],\n",
       "       [10.5397446 , 42.24353364],\n",
       "       [17.96019228, 56.57458781]])"
      ]
     },
     "execution_count": 85,
     "metadata": {},
     "output_type": "execute_result"
    }
   ],
   "source": [
    "indep_[0,:] = np.array(pd.read_csv('./data/tt/independent/std/top5_std.csv', header=None)).reshape(1,2)\n",
    "indep_[1,:] = np.array(pd.read_csv('./data/tt/independent/std/top6_std.csv', header=None)).reshape(1,2)\n",
    "indep_[2,:] = np.array(pd.read_csv('./data/tt/independent/std/left5_std.csv', header=None)).reshape(1,2)\n",
    "indep_[3,:] = np.array(pd.read_csv('./data/tt/independent/std/left6_std.csv', header=None)).reshape(1,2)\n",
    "indep_[4,:] = np.array(pd.read_csv('./data/tt/independent/std/right5_std.csv', header=None)).reshape(1,2)\n",
    "indep_[5,:] = np.array(pd.read_csv('./data/tt/independent/std/right6_std.csv', header=None)).reshape(1,2)\n",
    "indep_[6,:] = np.array(pd.read_csv('./data/tt/independent/std/back5_std.csv', header=None)).reshape(1,2)\n",
    "indep_[7,:] = np.array(pd.read_csv('./data/tt/independent/std/back6_std.csv', header=None)).reshape(1,2)\n",
    "indep_"
   ]
  },
  {
   "cell_type": "code",
   "execution_count": 86,
   "metadata": {},
   "outputs": [
    {
     "data": {
      "text/plain": [
       "array([[13.7376413 , 46.89005595],\n",
       "       [19.89393772, 63.28035028],\n",
       "       [15.47655731, 56.75938225],\n",
       "       [15.76389016, 65.71483076],\n",
       "       [12.18104993, 42.42712077],\n",
       "       [14.86109085, 47.8048261 ],\n",
       "       [12.43742091, 43.63360881],\n",
       "       [15.49108791, 54.08448131]])"
      ]
     },
     "execution_count": 86,
     "metadata": {},
     "output_type": "execute_result"
    }
   ],
   "source": [
    "all_[0,:] = np.array(pd.read_csv('./data/tt/all/std/top5_std.csv', header=None)).reshape(1,2)\n",
    "all_[1,:] = np.array(pd.read_csv('./data/tt/all/std/top6_std.csv', header=None)).reshape(1,2)\n",
    "all_[2,:] = np.array(pd.read_csv('./data/tt/all/std/left5_std.csv', header=None)).reshape(1,2)\n",
    "all_[3,:] = np.array(pd.read_csv('./data/tt/all/std/left6_std.csv', header=None)).reshape(1,2)\n",
    "all_[4,:] = np.array(pd.read_csv('./data/tt/all/std/right5_std.csv', header=None)).reshape(1,2)\n",
    "all_[5,:] = np.array(pd.read_csv('./data/tt/all/std/right6_std.csv', header=None)).reshape(1,2)\n",
    "all_[6,:] = np.array(pd.read_csv('./data/tt/all/std/back5_std.csv', header=None)).reshape(1,2)\n",
    "all_[7,:] = np.array(pd.read_csv('./data/tt/all/std/back6_std.csv', header=None)).reshape(1,2)\n",
    "all_"
   ]
  },
  {
   "cell_type": "code",
   "execution_count": 87,
   "metadata": {},
   "outputs": [
    {
     "data": {
      "text/plain": [
       "array([[13.20782515, 42.46500472],\n",
       "       [21.3645042 , 57.49123027],\n",
       "       [14.51728417, 48.58233224],\n",
       "       [16.22581627, 56.94110472],\n",
       "       [11.5334166 , 36.6738254 ],\n",
       "       [14.33437834, 37.61832876],\n",
       "       [11.4769809 , 39.03167102],\n",
       "       [13.92472546, 46.43301196]])"
      ]
     },
     "execution_count": 87,
     "metadata": {},
     "output_type": "execute_result"
    }
   ],
   "source": [
    "bidir_all_[0,:] = np.array(pd.read_csv('./data/tt/bidir all/std/top5_std.csv', header=None)).reshape(1,2)\n",
    "bidir_all_[1,:] = np.array(pd.read_csv('./data/tt/bidir all/std/top6_std.csv', header=None)).reshape(1,2)\n",
    "bidir_all_[2,:] = np.array(pd.read_csv('./data/tt/bidir all/std/left5_std.csv', header=None)).reshape(1,2)\n",
    "bidir_all_[3,:] = np.array(pd.read_csv('./data/tt/bidir all/std/left6_std.csv', header=None)).reshape(1,2)\n",
    "bidir_all_[4,:] = np.array(pd.read_csv('./data/tt/bidir all/std/right5_std.csv', header=None)).reshape(1,2)\n",
    "bidir_all_[5,:] = np.array(pd.read_csv('./data/tt/bidir all/std/right6_std.csv', header=None)).reshape(1,2)\n",
    "bidir_all_[6,:] = np.array(pd.read_csv('./data/tt/bidir all/std/back5_std.csv', header=None)).reshape(1,2)\n",
    "bidir_all_[7,:] = np.array(pd.read_csv('./data/tt/bidir all/std/back6_std.csv', header=None)).reshape(1,2)\n",
    "bidir_all_"
   ]
  },
  {
   "cell_type": "code",
   "execution_count": 88,
   "metadata": {},
   "outputs": [
    {
     "data": {
      "text/plain": [
       "array([ 1,  3,  5,  7,  9, 11, 13, 15])"
      ]
     },
     "execution_count": 88,
     "metadata": {},
     "output_type": "execute_result"
    }
   ],
   "source": [
    "x = np.arange(1,17,2)\n",
    "x"
   ]
  },
  {
   "cell_type": "code",
   "execution_count": 89,
   "metadata": {},
   "outputs": [
    {
     "data": {
      "image/png": "[encoded data removed]",
      "text/plain": [
       "<Figure size 864x648 with 1 Axes>"
      ]
     },
     "metadata": {
      "needs_background": "light"
     },
     "output_type": "display_data"
    }
   ],
   "source": [
    "plt.figure(figsize=(12,9))\n",
    "w = 0.3\n",
    "plt.errorbar(x-w, indep_[:,0], indep_[:,1], linestyle='None', marker='o', color='b', label='single datasets')\n",
    "plt.errorbar(x, all_[:,0], all_[:,1], linestyle='None', marker='o', color='g', label='all datasets')\n",
    "plt.errorbar(x+w, bidir_all_[:,0], bidir_all_[:,1], linestyle='None', marker='o', color='r', label='bidir all datasets')\n",
    "plt.legend(loc='upper center')\n",
    "\n",
    "plt.xticks(x,['top5', 'top6', 'left5', 'left6', 'right5', 'right6', 'back5', 'back6'])\n",
    "plt.tight_layout()"
   ]
  },
  {
   "cell_type": "code",
   "execution_count": 80,
   "metadata": {},
   "outputs": [
    {
     "data": {
      "text/plain": [
       "array([[1, 4, 9],\n",
       "       [1, 4, 9]])"
      ]
     },
     "execution_count": 80,
     "metadata": {},
     "output_type": "execute_result"
    }
   ],
   "source": [
    "np.power(np.array([[1,2,3],[1,2,3]]),2)"
   ]
  },
  {
   "cell_type": "code",
   "execution_count": 35,
   "metadata": {},
   "outputs": [
    {
     "data": {
      "text/plain": [
       "<matplotlib.legend.Legend at 0x7efc9f8da7f0>"
      ]
     },
     "execution_count": 35,
     "metadata": {},
     "output_type": "execute_result"
    },
    {
     "data": {
      "image/png": "[encoded data removed]",
      "text/plain": [
       "<Figure size 432x288 with 1 Axes>"
      ]
     },
     "metadata": {
      "needs_background": "light"
     },
     "output_type": "display_data"
    }
   ],
   "source": [
    "plt.errorbar(np.array([1])-0.1, mu_top5, sigma_top5, linestyle='None', marker='o', color='b', label='single datasets')\n",
    "plt.errorbar(np.array([1]), mu_top5_all, sigma_top5_all, linestyle='None', marker='o', color='r', label='all datasets')\n",
    "plt.errorbar(np.array([1])+0.1, mu_top5_all_bidir, sigma_top5_all_bidir, linestyle='None', marker='o', color='g', label='all datasets bidir')\n",
    "plt.xlim(0,2)\n",
    "plt.legend()"
   ]
  }
 ],
 "metadata": {
  "kernelspec": {
   "display_name": "Python 3",
   "language": "python",
   "name": "python3"
  },
  "language_info": {
   "codemirror_mode": {
    "name": "ipython",
    "version": 3
   },
   "file_extension": ".py",
   "mimetype": "text/x-python",
   "name": "python",
   "nbconvert_exporter": "python",
   "pygments_lexer": "ipython3",
   "version": "3.6.9"
  }
 },
 "nbformat": 4,
 "nbformat_minor": 4
}
